{
  "nbformat": 4,
  "nbformat_minor": 0,
  "metadata": {
    "colab": {
      "name": "k_nearest.ipynb",
      "provenance": [],
      "collapsed_sections": []
    },
    "kernelspec": {
      "name": "python3",
      "display_name": "Python 3"
    }
  },
  "cells": [
    {
      "cell_type": "markdown",
      "metadata": {
        "id": "61XYj9JuHOWv",
        "colab_type": "text"
      },
      "source": [
        "# Generating Data"
      ]
    },
    {
      "cell_type": "code",
      "metadata": {
        "id": "6cvF6NsPCkbb",
        "colab_type": "code",
        "colab": {}
      },
      "source": [
        "import numpy as np\n",
        "import random\n",
        "import matplotlib.pyplot as plt"
      ],
      "execution_count": 0,
      "outputs": []
    },
    {
      "cell_type": "markdown",
      "metadata": {
        "id": "iVHVOU4aE2sH",
        "colab_type": "text"
      },
      "source": [
        "Generating data for age and salary using random numbers them labeling the data by using a model of x = y line"
      ]
    },
    {
      "cell_type": "code",
      "metadata": {
        "id": "1KKllAeOCzhd",
        "colab_type": "code",
        "outputId": "16cfff06-8937-4204-bc94-3b388c0bac33",
        "colab": {
          "base_uri": "https://localhost:8080/",
          "height": 54
        }
      },
      "source": [
        "age, sal, lab = [], [], []\n",
        "\n",
        "for i in range(100):\n",
        "    age.append(round(np.random.random()*100,2))\n",
        "    sal.append(round(np.random.random()*100,2))\n",
        "\n",
        "    if age[i] - sal[i] < 0 :\n",
        "        lab.append(\"creditable\")\n",
        "    else:\n",
        "        lab.append(\"non creditable\")\n",
        "\n",
        "print (age, sal, lab)"
      ],
      "execution_count": 2,
      "outputs": [
        {
          "output_type": "stream",
          "text": [
            "[48.65, 65.31, 6.03, 68.32, 1.81, 85.04, 19.12, 40.91, 2.2, 31.82, 8.7, 32.98, 94.4, 55.86, 35.69, 86.06, 43.49, 12.23, 16.86, 5.49, 87.89, 39.65, 12.76, 75.47, 94.42, 59.25, 77.44, 43.0, 74.87, 16.29, 52.71, 53.52, 13.86, 12.11, 35.53, 61.66, 70.62, 37.69, 72.32, 2.61, 51.26, 87.91, 9.94, 95.13, 87.72, 60.5, 88.5, 88.83, 16.22, 21.28, 34.23, 47.16, 73.71, 38.9, 13.61, 55.22, 61.4, 20.41, 24.31, 6.54, 48.82, 44.04, 73.81, 90.35, 42.88, 85.87, 2.32, 86.69, 27.09, 65.71, 79.27, 40.78, 60.26, 89.22, 84.8, 66.7, 46.75, 62.43, 4.38, 63.41, 99.49, 10.28, 85.8, 69.93, 98.83, 36.81, 9.48, 98.1, 52.13, 35.03, 6.62, 8.95, 80.95, 40.7, 24.58, 0.08, 15.53, 33.91, 47.46, 80.27] [16.1, 73.24, 93.26, 24.44, 0.11, 94.29, 70.8, 28.23, 47.12, 83.34, 96.31, 3.17, 10.17, 93.01, 18.42, 19.24, 60.76, 33.8, 11.54, 9.87, 44.43, 95.63, 86.66, 83.74, 36.24, 96.46, 7.36, 54.11, 85.53, 74.68, 30.02, 69.41, 50.16, 33.89, 41.26, 3.39, 97.16, 41.28, 97.53, 95.46, 19.74, 26.32, 58.58, 19.66, 27.06, 78.47, 76.05, 9.94, 89.1, 23.3, 84.6, 43.15, 87.94, 56.78, 98.13, 25.77, 99.92, 28.99, 52.02, 32.2, 2.16, 21.87, 49.11, 95.4, 30.39, 94.01, 11.15, 54.01, 58.76, 23.27, 14.12, 12.01, 66.83, 76.33, 35.35, 59.79, 99.3, 42.75, 78.04, 67.79, 24.11, 37.07, 66.22, 45.89, 18.05, 99.82, 66.65, 93.36, 27.95, 78.69, 80.62, 51.39, 56.88, 38.67, 62.05, 74.89, 73.01, 20.79, 88.6, 19.92] ['non creditable', 'creditable', 'creditable', 'non creditable', 'non creditable', 'creditable', 'creditable', 'non creditable', 'creditable', 'creditable', 'creditable', 'non creditable', 'non creditable', 'creditable', 'non creditable', 'non creditable', 'creditable', 'creditable', 'non creditable', 'creditable', 'non creditable', 'creditable', 'creditable', 'creditable', 'non creditable', 'creditable', 'non creditable', 'creditable', 'creditable', 'creditable', 'non creditable', 'creditable', 'creditable', 'creditable', 'creditable', 'non creditable', 'creditable', 'creditable', 'creditable', 'creditable', 'non creditable', 'non creditable', 'creditable', 'non creditable', 'non creditable', 'creditable', 'non creditable', 'non creditable', 'creditable', 'creditable', 'creditable', 'non creditable', 'creditable', 'creditable', 'creditable', 'non creditable', 'creditable', 'creditable', 'creditable', 'creditable', 'non creditable', 'non creditable', 'non creditable', 'creditable', 'non creditable', 'creditable', 'creditable', 'non creditable', 'creditable', 'non creditable', 'non creditable', 'non creditable', 'creditable', 'non creditable', 'non creditable', 'non creditable', 'creditable', 'non creditable', 'creditable', 'creditable', 'non creditable', 'creditable', 'non creditable', 'non creditable', 'non creditable', 'creditable', 'creditable', 'non creditable', 'non creditable', 'creditable', 'creditable', 'creditable', 'non creditable', 'non creditable', 'creditable', 'creditable', 'creditable', 'non creditable', 'creditable', 'non creditable']\n"
          ],
          "name": "stdout"
        }
      ]
    },
    {
      "cell_type": "markdown",
      "metadata": {
        "id": "0LYL580xFGbz",
        "colab_type": "text"
      },
      "source": [
        "Object Customer is used to bind all the attributes of each customers list hist_data contails list of all those objects\n",
        "\n"
      ]
    },
    {
      "cell_type": "code",
      "metadata": {
        "id": "iFqhKvrVIRvX",
        "colab_type": "code",
        "colab": {}
      },
      "source": [
        "class Customer(object):\n",
        "    def __init__(self, age, sal, lab = None):\n",
        "        self.age = age\n",
        "        self.sal = sal\n",
        "        self.lab = lab\n",
        "\n",
        "    def distance(self, other):\n",
        "        x = self.age - other.age\n",
        "        y = self.sal - other.sal\n",
        "        return (x**2 + y**2)**.5\n",
        "\n",
        "    def __str__(self):\n",
        "        return (\"age -> \" + str(self.age) + \" sal -> \" + str(self.sal) + \" lable -> \" + str(self.lab))"
      ],
      "execution_count": 0,
      "outputs": []
    },
    {
      "cell_type": "code",
      "metadata": {
        "id": "UxLlBNYpKJmf",
        "colab_type": "code",
        "colab": {}
      },
      "source": [
        "hist_data = []\n",
        "for i in range(len(age)):\n",
        "    hist_data.append(Customer(age[i], sal[i], lab[i]))"
      ],
      "execution_count": 0,
      "outputs": []
    },
    {
      "cell_type": "code",
      "metadata": {
        "id": "jtQCipmCK_0e",
        "colab_type": "code",
        "outputId": "d3e03119-3993-4385-f182-e1bea617b957",
        "colab": {
          "base_uri": "https://localhost:8080/",
          "height": 34
        }
      },
      "source": [
        "print(hist_data[2])"
      ],
      "execution_count": 5,
      "outputs": [
        {
          "output_type": "stream",
          "text": [
            "age -> 6.03 sal -> 93.26 lable -> creditable\n"
          ],
          "name": "stdout"
        }
      ]
    },
    {
      "cell_type": "markdown",
      "metadata": {
        "id": "jbFAYxKdFWW9",
        "colab_type": "text"
      },
      "source": [
        "# KNN"
      ]
    },
    {
      "cell_type": "code",
      "metadata": {
        "id": "i_28r691JtuK",
        "colab_type": "code",
        "colab": {}
      },
      "source": [
        "def k_nearest(data, person, k):\n",
        "    \"\"\" assumes data is list of objects of type Customer \n",
        "    person is single Customer which is to be classified and \n",
        "    k is integer which is algoithm parameter, returns label for person\"\"\"\n",
        "    data_loc = list(data)\n",
        "    for i in range(len(data_loc)):\n",
        "        data_loc[i].dist = person.distance(data_loc[i])\n",
        "    data_sorted = sorted(data_loc, key = lambda e:e.dist)\n",
        "    labels = {}\n",
        "    for i in range(k):\n",
        "        if data_sorted[i].lab in labels:\n",
        "            labels[data_sorted[i].lab] += 1\n",
        "        else:\n",
        "            labels[data_sorted[i].lab] = 1\n",
        "    for key in labels:\n",
        "        if labels[key] > k/2:\n",
        "            return key"
      ],
      "execution_count": 0,
      "outputs": []
    },
    {
      "cell_type": "code",
      "metadata": {
        "id": "BY9qrRmAOoaU",
        "colab_type": "code",
        "outputId": "11b9dae1-6a62-427a-da7b-965edc54f008",
        "colab": {
          "base_uri": "https://localhost:8080/",
          "height": 34
        }
      },
      "source": [
        "k_nearest(hist_data, Customer(25, 65), 3)"
      ],
      "execution_count": 7,
      "outputs": [
        {
          "output_type": "execute_result",
          "data": {
            "text/plain": [
              "'creditable'"
            ]
          },
          "metadata": {
            "tags": []
          },
          "execution_count": 7
        }
      ]
    },
    {
      "cell_type": "markdown",
      "metadata": {
        "id": "TEwaijkhFkju",
        "colab_type": "text"
      },
      "source": [
        "# K-Fold Cross Validation\n"
      ]
    },
    {
      "cell_type": "code",
      "metadata": {
        "id": "UqPqOXTbQNUK",
        "colab_type": "code",
        "colab": {}
      },
      "source": [
        "def n_foldValidation(data, k, n):\n",
        "    data_loc = list(data)\n",
        "    random.shuffle(data_loc)\n",
        "    data_splits =[]\n",
        "    for i in range(n):\n",
        "        data_splits.append(data_loc[max(0, i*(len(data)//n)) : min(len(data), (i+1)*len(data)//n)])\n",
        "    accu = []\n",
        "    for i in range(n):\n",
        "        test = data_splits[i]\n",
        "        train =[]\n",
        "        for j in range(n):\n",
        "            if i != j:\n",
        "                train.extend(data_splits[j])\n",
        "        \n",
        "        count = 0\n",
        "        for item in test:\n",
        "            if item.lab == k_nearest(train, item, k):\n",
        "                count += 1\n",
        "        accu.append(count/len(test))\n",
        "    return np.mean(accu)"
      ],
      "execution_count": 0,
      "outputs": []
    },
    {
      "cell_type": "code",
      "metadata": {
        "id": "caKPUqemX9YW",
        "colab_type": "code",
        "outputId": "0a34208b-da13-4d3d-8ab1-8e7c5f1e1be0",
        "colab": {
          "base_uri": "https://localhost:8080/",
          "height": 54
        }
      },
      "source": [
        "accu = []\n",
        "for k in range(1,31,2):\n",
        "    accu.append(n_foldValidation(hist_data, k, 5))\n",
        "print(accu)"
      ],
      "execution_count": 12,
      "outputs": [
        {
          "output_type": "stream",
          "text": [
            "[0.93, 0.89, 0.9200000000000002, 0.9399999999999998, 0.93, 0.9299999999999999, 0.9199999999999999, 0.9299999999999999, 0.9299999999999999, 0.9200000000000002, 0.89, 0.9099999999999999, 0.9, 0.9199999999999999, 0.9400000000000001]\n"
          ],
          "name": "stdout"
        }
      ]
    },
    {
      "cell_type": "code",
      "metadata": {
        "id": "wR7B9E_kGPc2",
        "colab_type": "code",
        "colab": {
          "base_uri": "https://localhost:8080/",
          "height": 282
        },
        "outputId": "69d77e2b-6ce7-4ed7-ec2a-a367b17a4975"
      },
      "source": [
        "plt.plot(accu)"
      ],
      "execution_count": 13,
      "outputs": [
        {
          "output_type": "execute_result",
          "data": {
            "text/plain": [
              "[<matplotlib.lines.Line2D at 0x7fac49f41550>]"
            ]
          },
          "metadata": {
            "tags": []
          },
          "execution_count": 13
        },
        {
          "output_type": "display_data",
          "data": {
            "image/png": "[encoded data removed]",
            "text/plain": [
              "<Figure size 432x288 with 1 Axes>"
            ]
          },
          "metadata": {
            "tags": []
          }
        }
      ]
    },
    {
      "cell_type": "code",
      "metadata": {
        "id": "czFoGH-uGRaP",
        "colab_type": "code",
        "colab": {}
      },
      "source": [
        ""
      ],
      "execution_count": 0,
      "outputs": []
    }
  ]
}