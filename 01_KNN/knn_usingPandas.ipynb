{
 "cells": [
  {
   "cell_type": "code",
   "execution_count": 1,
   "metadata": {},
   "outputs": [],
   "source": [
    "import numpy as np\n",
    "import matplotlib.pyplot as plt\n",
    "import pandas as pd\n",
    "import random\n",
    "df = pd.read_csv('iris.csv')"
   ]
  },
  {
   "cell_type": "code",
   "execution_count": 2,
   "metadata": {},
   "outputs": [],
   "source": [
    "def knn(data, obj, k):\n",
    "    \"\"\" input  - data is assumed to be a pandas dataframe with last column having the labels\n",
    "                 obj is the single row dataframe with attributes for which label is to be predicted\n",
    "                 k is algorithmic parameter for k nearest neighbour algorithm. \n",
    "        return - function returns the predicted label\"\"\"\n",
    "    \n",
    "    entries_data = data.shape[0]\n",
    "    attributes_data = data.shape[1]-1 # last column being label is omited\n",
    "    \n",
    "    dist = [] # list to hold euclidean distances of obj with each entry in data \n",
    "\n",
    "    for entry in range(entries_data):\n",
    "        d = 0\n",
    "        for attribute in range(attributes_data):\n",
    "            d += (data.iloc[entry,attribute] - obj.iloc[attribute])**2\n",
    "        dist.append(d**0.5)\n",
    "        \n",
    "    data['dist'] = dist\n",
    "    data.sort_values(by=\"dist\",inplace=True)\n",
    "    ans = data.iloc[:,-2][0:k].mode()[0]\n",
    "    data.drop('dist', axis = 1,inplace=True)\n",
    "    return ans"
   ]
  },
  {
   "cell_type": "code",
   "execution_count": 3,
   "metadata": {},
   "outputs": [],
   "source": [
    "def kfold_CV(data, k, knn_k):\n",
    "    \"\"\" input  - data is assumed to be a pandas dataframe with last column having the labels\n",
    "                 k is algorithmic parameter for k fold cross validation algorithm and knn_k is \n",
    "                 algothmic parameter for prediction algorithm used \n",
    "        output - function returns the average accuracy for k trials with diffrent test and train splits\"\"\"\n",
    "    \n",
    "    data = data.sample(frac = 1) # shuffling the entries as test and train are to be picked at random\n",
    "    accu = 0\n",
    "    row, col = data.shape\n",
    "    for i in range(k): #loop for selecting different test and train splits\n",
    "        test  = data.iloc[i*row//k : (i+1)*row//k].copy()\n",
    "        train = data.iloc[ :i*row//k].append(data.iloc[(i+1)*row//k: ]).copy()\n",
    "        \n",
    "        test_elements = test.shape[0]   \n",
    "        for j in range(test_elements): #loop for each element of test set\n",
    "            if test.iloc[j,-1] == knn(train, test.iloc[j], knn_k):\n",
    "                accu +=1\n",
    "                \n",
    "    return(accu/test_elements/k)\n"
   ]
  },
  {
   "cell_type": "code",
   "execution_count": 4,
   "metadata": {},
   "outputs": [
    {
     "name": "stdout",
     "output_type": "stream",
     "text": [
      "for k = 1 accuracy = 0.95\n",
      "for k = 3 accuracy = 0.96\n",
      "for k = 5 accuracy = 0.97\n",
      "for k = 7 accuracy = 0.96\n",
      "for k = 9 accuracy = 0.98\n",
      "for k = 11 accuracy = 0.97\n",
      "for k = 13 accuracy = 0.96\n",
      "for k = 15 accuracy = 0.97\n",
      "for k = 17 accuracy = 0.96\n",
      "for k = 19 accuracy = 0.95\n"
     ]
    }
   ],
   "source": [
    "for i in range(1,21,2):\n",
    "    print(\"for k = \" + str(i) + \" accuracy = \" + str(round(kfold_CV(df,5,i),2)))"
   ]
  }
 ],
 "metadata": {
  "kernelspec": {
   "display_name": "Python 3",
   "language": "python",
   "name": "python3"
  },
  "language_info": {
   "codemirror_mode": {
    "name": "ipython",
    "version": 3
   },
   "file_extension": ".py",
   "mimetype": "text/x-python",
   "name": "python",
   "nbconvert_exporter": "python",
   "pygments_lexer": "ipython3",
   "version": "3.7.3"
  }
 },
 "nbformat": 4,
 "nbformat_minor": 2
}
