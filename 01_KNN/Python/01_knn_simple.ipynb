{
 "cells": [
  {
   "cell_type": "markdown",
   "metadata": {
    "colab_type": "text",
    "id": "61XYj9JuHOWv"
   },
   "source": [
    "# Generating Data"
   ]
  },
  {
   "cell_type": "code",
   "execution_count": 21,
   "metadata": {
    "colab": {},
    "colab_type": "code",
    "id": "6cvF6NsPCkbb"
   },
   "outputs": [],
   "source": [
    "import numpy as np\n",
    "import random\n",
    "import matplotlib.pyplot as plt"
   ]
  },
  {
   "cell_type": "markdown",
   "metadata": {
    "colab_type": "text",
    "id": "iVHVOU4aE2sH"
   },
   "source": [
    "Generating data for age and salary using random numbers them labeling the data by using a model of 2*age - sal = 0 line"
   ]
  },
  {
   "cell_type": "code",
   "execution_count": 22,
   "metadata": {
    "colab": {
     "base_uri": "https://localhost:8080/",
     "height": 54
    },
    "colab_type": "code",
    "id": "1KKllAeOCzhd",
    "outputId": "16cfff06-8937-4204-bc94-3b388c0bac33"
   },
   "outputs": [],
   "source": [
    "age, sal, lab = [], [], []\n",
    "\n",
    "for i in range(50):\n",
    "    age.append(random.randrange(40,60))\n",
    "    sal.append(random.randrange(35,80))\n",
    "    lab.append(\"creditable\")\n",
    "\n",
    "    age.append(random.randrange(20,50))\n",
    "    sal.append(random.randrange(55,100))\n",
    "    lab.append(\"Non creditable\")\n"
   ]
  },
  {
   "cell_type": "markdown",
   "metadata": {
    "colab_type": "text",
    "id": "0LYL580xFGbz"
   },
   "source": [
    "Object Customer is used to bind all the attributes of each customers list hist_data contails list of all those objects\n",
    "\n"
   ]
  },
  {
   "cell_type": "code",
   "execution_count": 23,
   "metadata": {
    "colab": {},
    "colab_type": "code",
    "id": "iFqhKvrVIRvX"
   },
   "outputs": [],
   "source": [
    "class Customer(object):\n",
    "    def __init__(self, age, sal, lab = None):\n",
    "        self.age = age\n",
    "        self.sal = sal\n",
    "        self.lab = lab\n",
    "        self.dist = None\n",
    "\n",
    "    def distance(self, other):\n",
    "        x = self.age - other.age\n",
    "        y = self.sal - other.sal\n",
    "        return (x**2 + y**2)**.5\n",
    "\n",
    "    def __str__(self):\n",
    "        return (\"age -> \" + str(self.age) + \" sal -> \" + str(self.sal) + \" lable -> \" + str(self.lab) + \"dist -> \" + str(self.dist))"
   ]
  },
  {
   "cell_type": "code",
   "execution_count": 24,
   "metadata": {
    "colab": {},
    "colab_type": "code",
    "id": "UxLlBNYpKJmf"
   },
   "outputs": [],
   "source": [
    "hist_data = []\n",
    "for i in range(len(age)):\n",
    "    hist_data.append(Customer(age[i], sal[i], lab[i]))"
   ]
  },
  {
   "cell_type": "code",
   "execution_count": 25,
   "metadata": {
    "colab": {
     "base_uri": "https://localhost:8080/",
     "height": 34
    },
    "colab_type": "code",
    "id": "jtQCipmCK_0e",
    "outputId": "d3e03119-3993-4385-f182-e1bea617b957"
   },
   "outputs": [
    {
     "name": "stdout",
     "output_type": "stream",
     "text": [
      "age -> 56 sal -> 78 lable -> creditabledist -> None\n"
     ]
    }
   ],
   "source": [
    "print(hist_data[2])"
   ]
  },
  {
   "cell_type": "markdown",
   "metadata": {
    "colab_type": "text",
    "id": "jbFAYxKdFWW9"
   },
   "source": [
    "# KNN"
   ]
  },
  {
   "cell_type": "code",
   "execution_count": 26,
   "metadata": {
    "colab": {},
    "colab_type": "code",
    "id": "i_28r691JtuK"
   },
   "outputs": [],
   "source": [
    "def k_nearest(data, person, k):\n",
    "    \"\"\" assumes data is list of objects of type Customer \n",
    "    person is single Customer which is to be classified and \n",
    "    k is integer which is algoithm parameter, returns label for person\"\"\"\n",
    "    data_loc = list(data)\n",
    "    for i in range(len(data_loc)):\n",
    "        data_loc[i].dist = person.distance(data_loc[i])\n",
    "    data_sorted = sorted(data_loc, key = lambda e:e.dist)\n",
    "    \n",
    "    labels = {}\n",
    "    for i in range(k):\n",
    "        if data_sorted[i].lab in labels:\n",
    "            labels[data_sorted[i].lab] += 1\n",
    "        else:\n",
    "            labels[data_sorted[i].lab] = 1\n",
    "            \n",
    "    for key in labels:\n",
    "        if labels[key] > k/2:\n",
    "            return key"
   ]
  },
  {
   "cell_type": "code",
   "execution_count": 27,
   "metadata": {
    "colab": {
     "base_uri": "https://localhost:8080/",
     "height": 34
    },
    "colab_type": "code",
    "id": "BY9qrRmAOoaU",
    "outputId": "11b9dae1-6a62-427a-da7b-965edc54f008"
   },
   "outputs": [
    {
     "data": {
      "text/plain": [
       "'Non creditable'"
      ]
     },
     "execution_count": 27,
     "metadata": {},
     "output_type": "execute_result"
    }
   ],
   "source": [
    "k_nearest(hist_data, Customer(25, 65), 3)"
   ]
  },
  {
   "cell_type": "markdown",
   "metadata": {
    "colab_type": "text",
    "id": "TEwaijkhFkju"
   },
   "source": [
    "# K-Fold Cross Validation\n"
   ]
  },
  {
   "cell_type": "code",
   "execution_count": 28,
   "metadata": {
    "colab": {},
    "colab_type": "code",
    "id": "UqPqOXTbQNUK"
   },
   "outputs": [],
   "source": [
    "def n_foldValidation(data, k, n):\n",
    "    data_loc = list(data)\n",
    "    random.shuffle(data_loc)\n",
    "    data_splits =[]\n",
    "    for i in range(n):\n",
    "        data_splits.append(data_loc[max(0, i*(len(data)//n)) : min(len(data), (i+1)*len(data)//n)])\n",
    "    accu = []\n",
    "    for i in range(n):\n",
    "        test = data_splits[i]\n",
    "        train =[]\n",
    "        for j in range(n):\n",
    "            if i != j:\n",
    "                train.extend(data_splits[j])\n",
    "        \n",
    "        count = 0\n",
    "        for item in test:\n",
    "            if item.lab == k_nearest(train, item, k):\n",
    "                count += 1\n",
    "        accu.append(count/len(test))\n",
    "    return np.mean(accu)"
   ]
  },
  {
   "cell_type": "code",
   "execution_count": 33,
   "metadata": {
    "colab": {
     "base_uri": "https://localhost:8080/",
     "height": 54
    },
    "colab_type": "code",
    "id": "caKPUqemX9YW",
    "outputId": "0a34208b-da13-4d3d-8ab1-8e7c5f1e1be0"
   },
   "outputs": [
    {
     "name": "stdout",
     "output_type": "stream",
     "text": [
      "for k = 1  accuracy = 0.95\n",
      "for k = 3  accuracy = 0.94\n",
      "for k = 5  accuracy = 0.93\n",
      "for k = 7  accuracy = 0.9\n",
      "for k = 9  accuracy = 0.94\n"
     ]
    }
   ],
   "source": [
    "accu = []\n",
    "for k in range(1,11,2):\n",
    "    ans = n_foldValidation(hist_data, k, 5)\n",
    "    accu.append(ans)\n",
    "    print(\"for k = \" + str(k) + \"  accuracy = \" + str(round(ans,2)))"
   ]
  }
 ],
 "metadata": {
  "colab": {
   "collapsed_sections": [],
   "name": "k_nearest.ipynb",
   "provenance": []
  },
  "kernelspec": {
   "display_name": "Python 3",
   "language": "python",
   "name": "python3"
  },
  "language_info": {
   "codemirror_mode": {
    "name": "ipython",
    "version": 3
   },
   "file_extension": ".py",
   "mimetype": "text/x-python",
   "name": "python",
   "nbconvert_exporter": "python",
   "pygments_lexer": "ipython3",
   "version": "3.7.3"
  }
 },
 "nbformat": 4,
 "nbformat_minor": 1
}
