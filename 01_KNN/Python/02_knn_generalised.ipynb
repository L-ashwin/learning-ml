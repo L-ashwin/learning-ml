{
 "cells": [
  {
   "cell_type": "code",
   "execution_count": 1,
   "metadata": {},
   "outputs": [],
   "source": [
    "import numpy as np\n",
    "import matplotlib.pyplot as plt\n",
    "import pandas as pd\n",
    "import random\n",
    "df = pd.read_csv('iris.csv')"
   ]
  },
  {
   "cell_type": "code",
   "execution_count": 2,
   "metadata": {},
   "outputs": [],
   "source": [
    "def distance(vec1, vec2):\n",
    "    return np.sqrt(np.sum((np.array(vec1) - np.array(vec2))**2))\n",
    "\n",
    "def mode_knn(lab, dist):\n",
    "    lab = pd.Series(lab)\n",
    "    dist = pd.Series(dist)\n",
    "    \n",
    "    possible_ans = lab.mode()\n",
    "    if len(possible_ans) == 1:\n",
    "        return possible_ans[0]\n",
    "    else:\n",
    "        distances = {}\n",
    "        for ans in possible_ans:\n",
    "            distances[ans] = dist[lab == ans].sum()\n",
    "        return min(distances, key = distances.get)"
   ]
  },
  {
   "cell_type": "markdown",
   "metadata": {},
   "source": [
    "# K-Nearest Neighbours"
   ]
  },
  {
   "cell_type": "code",
   "execution_count": 3,
   "metadata": {},
   "outputs": [],
   "source": [
    "def knn(data, obj, k):\n",
    "    \"\"\" input  - data is assumed to be a pandas dataframe with last column having \n",
    "                 the labels obj is the single row dataframe with attributes for which\n",
    "                 label is to be predicted k (int / list of int) is algorithmic \n",
    "                 parameter for k nearest neighbour algorithm. \n",
    "        return - function returns the predicted label\"\"\"\n",
    "    \n",
    "    entries_data = data.shape[0]\n",
    "    attributes_data = data.shape[1]-1 # last column being label is omited\n",
    "    obj = pd.Series(obj)\n",
    "    \n",
    "    dist = [] # list to hold euclidean distances of obj with each entry in data \n",
    "    for entry in range(entries_data):\n",
    "        dist.append(distance(data.iloc[entry,0:attributes_data], obj[0:attributes_data]))\n",
    "\n",
    "    data['dist'] = dist\n",
    "    data.sort_values(by=\"dist\", inplace=True)       \n",
    "    ans = [ mode_knn(data.iloc[:,-2][0:k_i], data.iloc[:,-1][0:k_i]) for k_i in k]\n",
    "    \n",
    "    data.drop('dist', axis = 1,inplace=True)\n",
    "    return ans"
   ]
  },
  {
   "cell_type": "markdown",
   "metadata": {},
   "source": [
    "# K-Fold Cross-Validation"
   ]
  },
  {
   "cell_type": "code",
   "execution_count": 4,
   "metadata": {},
   "outputs": [],
   "source": [
    "def kfold_CV(data, k, knn_k):\n",
    "    \"\"\" input  - data is assumed to be a pandas dataframe with last column \n",
    "                 having the labels k is algorithmic parameter for k fold cross \n",
    "                 validation algorithm and knn_k (int / list of int) is algothmic \n",
    "                 parameter for prediction algorithm used \n",
    "        output - function returns the average accuracy for k trials with diffrent \n",
    "                 test and train splits\"\"\"\n",
    "    \n",
    "    # shuffling the entries as test and train are to be picked at random\n",
    "    data = data.sample(frac = 1) \n",
    "    \n",
    "    accu = np.zeros(len(knn_k))\n",
    "    row, col = data.shape\n",
    "    \n",
    "    for i in range(k): #loop for selecting different test and train splits\n",
    "        test  = data.iloc[i*row//k : (i+1)*row//k].copy()\n",
    "        train = data.iloc[ :i*row//k].append(data.iloc[(i+1)*row//k: ]).copy()\n",
    "        \n",
    "        test_elements = test.shape[0]\n",
    "        for j in range(test_elements): #loop for each element of test set\n",
    "            test_results = knn(train, test.iloc[j], knn_k)\n",
    "            \n",
    "            for k_i in range(len(knn_k)): #loop for each value of k of KNN\n",
    "                if test.iloc[j,-1] == test_results[k_i]:\n",
    "                    accu[k_i] += 1\n",
    "\n",
    "    return accu/data.shape[0]"
   ]
  },
  {
   "cell_type": "code",
   "execution_count": 5,
   "metadata": {},
   "outputs": [],
   "source": [
    "k_vals = range(1,21,2)\n",
    "accuracy = kfold_CV(df,5,k_vals)"
   ]
  },
  {
   "cell_type": "code",
   "execution_count": 6,
   "metadata": {},
   "outputs": [
    {
     "data": {
      "text/html": [
       "<div>\n",
       "<style scoped>\n",
       "    .dataframe tbody tr th:only-of-type {\n",
       "        vertical-align: middle;\n",
       "    }\n",
       "\n",
       "    .dataframe tbody tr th {\n",
       "        vertical-align: top;\n",
       "    }\n",
       "\n",
       "    .dataframe thead th {\n",
       "        text-align: right;\n",
       "    }\n",
       "</style>\n",
       "<table border=\"1\" class=\"dataframe\">\n",
       "  <thead>\n",
       "    <tr style=\"text-align: right;\">\n",
       "      <th></th>\n",
       "      <th>k</th>\n",
       "      <th>Accuracy</th>\n",
       "    </tr>\n",
       "  </thead>\n",
       "  <tbody>\n",
       "    <tr>\n",
       "      <th>0</th>\n",
       "      <td>1.0</td>\n",
       "      <td>96.00</td>\n",
       "    </tr>\n",
       "    <tr>\n",
       "      <th>1</th>\n",
       "      <td>3.0</td>\n",
       "      <td>96.00</td>\n",
       "    </tr>\n",
       "    <tr>\n",
       "      <th>2</th>\n",
       "      <td>5.0</td>\n",
       "      <td>95.33</td>\n",
       "    </tr>\n",
       "    <tr>\n",
       "      <th>3</th>\n",
       "      <td>7.0</td>\n",
       "      <td>95.33</td>\n",
       "    </tr>\n",
       "    <tr>\n",
       "      <th>4</th>\n",
       "      <td>9.0</td>\n",
       "      <td>96.00</td>\n",
       "    </tr>\n",
       "    <tr>\n",
       "      <th>5</th>\n",
       "      <td>11.0</td>\n",
       "      <td>95.33</td>\n",
       "    </tr>\n",
       "    <tr>\n",
       "      <th>6</th>\n",
       "      <td>13.0</td>\n",
       "      <td>96.67</td>\n",
       "    </tr>\n",
       "    <tr>\n",
       "      <th>7</th>\n",
       "      <td>15.0</td>\n",
       "      <td>98.00</td>\n",
       "    </tr>\n",
       "    <tr>\n",
       "      <th>8</th>\n",
       "      <td>17.0</td>\n",
       "      <td>98.00</td>\n",
       "    </tr>\n",
       "    <tr>\n",
       "      <th>9</th>\n",
       "      <td>19.0</td>\n",
       "      <td>96.67</td>\n",
       "    </tr>\n",
       "  </tbody>\n",
       "</table>\n",
       "</div>"
      ],
      "text/plain": [
       "      k  Accuracy\n",
       "0   1.0     96.00\n",
       "1   3.0     96.00\n",
       "2   5.0     95.33\n",
       "3   7.0     95.33\n",
       "4   9.0     96.00\n",
       "5  11.0     95.33\n",
       "6  13.0     96.67\n",
       "7  15.0     98.00\n",
       "8  17.0     98.00\n",
       "9  19.0     96.67"
      ]
     },
     "execution_count": 6,
     "metadata": {},
     "output_type": "execute_result"
    }
   ],
   "source": [
    "accuracy_list = pd.DataFrame(columns=['k', 'Accuracy'])\n",
    "for i in range(len(accuracy)):\n",
    "    accuracy_list = accuracy_list.append({\"k\":k_vals[i], \"Accuracy\":round((accuracy[i]*100),2)}, ignore_index=True)\n",
    "accuracy_list"
   ]
  }
 ],
 "metadata": {
  "kernelspec": {
   "display_name": "Python 3",
   "language": "python",
   "name": "python3"
  },
  "language_info": {
   "codemirror_mode": {
    "name": "ipython",
    "version": 3
   },
   "file_extension": ".py",
   "mimetype": "text/x-python",
   "name": "python",
   "nbconvert_exporter": "python",
   "pygments_lexer": "ipython3",
   "version": "3.7.3"
  }
 },
 "nbformat": 4,
 "nbformat_minor": 2
}
