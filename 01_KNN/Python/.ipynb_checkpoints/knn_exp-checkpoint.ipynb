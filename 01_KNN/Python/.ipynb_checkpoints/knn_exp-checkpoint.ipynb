{
 "cells": [
  {
   "cell_type": "code",
   "execution_count": 1,
   "metadata": {},
   "outputs": [],
   "source": [
    "import numpy as np\n",
    "import matplotlib.pyplot as plt\n",
    "import pandas as pd\n",
    "import random\n",
    "df = pd.read_csv('iris.csv')"
   ]
  },
  {
   "cell_type": "code",
   "execution_count": 37,
   "metadata": {},
   "outputs": [],
   "source": [
    "names = df.columns\n",
    "row,col = df.shape\n",
    "data = [{}]*row\n",
    "labels = df.iloc[:,-1]\n",
    "\n",
    "for entry in range(row):\n",
    "    for attribute in range(col-1):\n",
    "        data[entry][names[attribute]] = df.iloc[entry,attribute]"
   ]
  },
  {
   "cell_type": "code",
   "execution_count": 33,
   "metadata": {},
   "outputs": [],
   "source": [
    "class DataPoint(object):\n",
    "    def __init__(self, attributes, label = None):\n",
    "        self.attributes = attributes\n",
    "        self.label = label\n",
    "        self.distance = None\n",
    "        \n",
    "    def distance(self, other):\n",
    "        \n",
    "    \n",
    "    def __str__(self):\n",
    "        string = \"\"\n",
    "        for attribute in self.attributes:\n",
    "            string += str(attribute) + \" -> \" + str(self.attributes[attribute]) + \"\\n\"\n",
    "        string = string + \"label -> \" + str(self.label)\n",
    "        return string"
   ]
  },
  {
   "cell_type": "code",
   "execution_count": 38,
   "metadata": {},
   "outputs": [
    {
     "data": {
      "text/plain": [
       "0         setosa\n",
       "1         setosa\n",
       "2         setosa\n",
       "3         setosa\n",
       "4         setosa\n",
       "         ...    \n",
       "145    virginica\n",
       "146    virginica\n",
       "147    virginica\n",
       "148    virginica\n",
       "149    virginica\n",
       "Name: species, Length: 150, dtype: object"
      ]
     },
     "execution_count": 38,
     "metadata": {},
     "output_type": "execute_result"
    }
   ],
   "source": []
  },
  {
   "cell_type": "code",
   "execution_count": null,
   "metadata": {},
   "outputs": [],
   "source": []
  }
 ],
 "metadata": {
  "kernelspec": {
   "display_name": "Python 3",
   "language": "python",
   "name": "python3"
  },
  "language_info": {
   "codemirror_mode": {
    "name": "ipython",
    "version": 3
   },
   "file_extension": ".py",
   "mimetype": "text/x-python",
   "name": "python",
   "nbconvert_exporter": "python",
   "pygments_lexer": "ipython3",
   "version": "3.7.6"
  }
 },
 "nbformat": 4,
 "nbformat_minor": 2
}
