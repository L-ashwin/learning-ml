{
 "cells": [
  {
   "cell_type": "code",
   "execution_count": 1,
   "metadata": {},
   "outputs": [],
   "source": [
    "import numpy as np\n",
    "import matplotlib.pyplot as plt\n",
    "import pandas as pd\n",
    "import random\n",
    "df = pd.read_csv('iris.csv')"
   ]
  },
  {
   "cell_type": "markdown",
   "metadata": {},
   "source": [
    "# K-Nearest Neighbours"
   ]
  },
  {
   "cell_type": "code",
   "execution_count": 2,
   "metadata": {},
   "outputs": [],
   "source": [
    "def knn(data, obj, k):\n",
    "    \"\"\" input  - data is assumed to be a pandas dataframe with last column having the labels\n",
    "                 obj is the single row dataframe with attributes for which label is to be predicted\n",
    "                 k (int / list of int) is algorithmic parameter for k nearest neighbour algorithm. \n",
    "        return - function returns the predicted label\"\"\"\n",
    "    \n",
    "    entries_data = data.shape[0]\n",
    "    attributes_data = data.shape[1]-1 # last column being label is omited\n",
    "    obj = pd.Series(obj)\n",
    "    \n",
    "    dist = [] # list to hold euclidean distances of obj with each entry in data \n",
    "\n",
    "    for entry in range(entries_data):\n",
    "        d = 0\n",
    "        for attribute in range(attributes_data):\n",
    "            d += (data.iloc[entry,attribute] - obj.iloc[attribute])**2\n",
    "        dist.append(d**0.5)\n",
    "        \n",
    "    data['dist'] = dist\n",
    "    data.sort_values(by=\"dist\", inplace=True)\n",
    "    \n",
    "    ans = [None]*len(k)\n",
    "    for k_i in range(len(k)):\n",
    "        possible_ans = data.iloc[:,-2][0:k[k_i]].mode()\n",
    "        if len(possible_ans) == 1:\n",
    "            ans[k_i] = data.iloc[:,-2][0:k[k_i]].mode()\n",
    "        else:\n",
    "            dist_ans = []\n",
    "            for ans_i in possible_ans:\n",
    "                dist_ans.append(data[data.iloc[:,-2] == ans_i].iloc[:,-1].sum())\n",
    "            ans[k_i] = dist_ans.index(max(dist_ans))\n",
    "    \n",
    "    \n",
    "    ans = [(data.iloc[:,-2][0:k_i].mode()[0]) for k_i in k]\n",
    "    \n",
    "    data.drop('dist', axis = 1,inplace=True)\n",
    "    return ans"
   ]
  },
  {
   "cell_type": "markdown",
   "metadata": {},
   "source": [
    "# K-Fold Cross-Validation"
   ]
  },
  {
   "cell_type": "code",
   "execution_count": 3,
   "metadata": {},
   "outputs": [],
   "source": [
    "def kfold_CV(data, k, knn_k):\n",
    "    \"\"\" input  - data is assumed to be a pandas dataframe with last column having the labels\n",
    "                 k is algorithmic parameter for k fold cross validation algorithm and knn_k (int / list of int)\n",
    "                 is algothmic parameter for prediction algorithm used \n",
    "        output - function returns the average accuracy for k trials with diffrent test and train splits\"\"\"\n",
    "    \n",
    "    data = data.sample(frac = 1) # shuffling the entries as test and train are to be picked at random\n",
    "    \n",
    "    accu = np.zeros(len(knn_k))\n",
    "    row, col = data.shape\n",
    "    \n",
    "    for i in range(k): #loop for selecting different test and train splits\n",
    "        test  = data.iloc[i*row//k : (i+1)*row//k].copy()\n",
    "        train = data.iloc[ :i*row//k].append(data.iloc[(i+1)*row//k: ]).copy()\n",
    "        \n",
    "        test_elements = test.shape[0]\n",
    "        \n",
    "        for j in range(test_elements): #loop for each element of test set\n",
    "            test_results = knn(train, test.iloc[j], knn_k)\n",
    "            \n",
    "            for k_i in range(len(knn_k)): #loop for each value of k of KNN\n",
    "                if test.iloc[j,-1] == test_results[k_i]:\n",
    "                    accu[k_i] += 1\n",
    "\n",
    "    return accu/data.shape[0]"
   ]
  },
  {
   "cell_type": "code",
   "execution_count": 4,
   "metadata": {},
   "outputs": [
    {
     "name": "stdout",
     "output_type": "stream",
     "text": [
      "For k =  1  Accuracy =  96.0\n",
      "For k =  3  Accuracy =  97.33\n",
      "For k =  5  Accuracy =  96.67\n",
      "For k =  7  Accuracy =  97.33\n",
      "For k =  9  Accuracy =  98.0\n",
      "For k =  11  Accuracy =  96.0\n",
      "For k =  13  Accuracy =  96.67\n",
      "For k =  15  Accuracy =  97.33\n",
      "For k =  17  Accuracy =  96.0\n",
      "For k =  19  Accuracy =  96.67\n"
     ]
    }
   ],
   "source": [
    "k_vals = range(1,21,2)\n",
    "accuracy = kfold_CV(df,5,k_vals)\n",
    "for i in range(len(accuracy)):\n",
    "    print(\"For k = \",k_vals[i],\" Accuracy = \",round((accuracy[i]*100),2))"
   ]
  }
 ],
 "metadata": {
  "kernelspec": {
   "display_name": "Python 3",
   "language": "python",
   "name": "python3"
  },
  "language_info": {
   "codemirror_mode": {
    "name": "ipython",
    "version": 3
   },
   "file_extension": ".py",
   "mimetype": "text/x-python",
   "name": "python",
   "nbconvert_exporter": "python",
   "pygments_lexer": "ipython3",
   "version": "3.7.3"
  }
 },
 "nbformat": 4,
 "nbformat_minor": 2
}
