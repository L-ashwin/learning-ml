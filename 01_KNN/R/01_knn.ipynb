{
 "cells": [
  {
   "cell_type": "markdown",
   "metadata": {},
   "source": [
    "# K Nearest Neighbours"
   ]
  },
  {
   "cell_type": "code",
   "execution_count": 1,
   "metadata": {},
   "outputs": [],
   "source": [
    "# Function for distance between attribute vectors and mode\n",
    "dist <- function(v1, v2){\n",
    "  return(sqrt(sum((v1-v2)^2)))\n",
    "}\n",
    "mode <- function(lab,dist){\n",
    "  return(names(which.max(table(lab))))\n",
    "}"
   ]
  },
  {
   "cell_type": "code",
   "execution_count": 2,
   "metadata": {},
   "outputs": [],
   "source": [
    "# function to calculate overall, positive, negative, accuracy and MCC\n",
    "CalcAccus <- function(pred, true, k){\n",
    "    tab = table(true, pred)\n",
    "    TP = tab[1,1]\n",
    "    FP = tab[2,1]\n",
    "    FN = tab[1,2]\n",
    "    TN = tab[2,2]\n",
    "    \n",
    "    accu_o = (TP+TN)/(TP+TN+FP+FN)\n",
    "    accu_P = TP/(TP+FN)\n",
    "    accu_N = TN/(TN+FP)\n",
    "    MCC    = (TP*TN - FP*FN)/sqrt((TP+FP)*(TP+FN)*(TN+FP)*(TN+FN))\n",
    "    \n",
    "    x <- data.frame(\"k\" = k, \"overall\" = accu_o, \"positive\" = accu_P, \n",
    "                    \"negative\" = accu_N, \"MCC\" = MCC)     \n",
    "    return(x)\n",
    "}"
   ]
  },
  {
   "cell_type": "markdown",
   "metadata": {},
   "source": [
    "### Function for KNN\n",
    "#### Input\n",
    "- data:  input data in form of data frame with labels in last col  \n",
    "- obj:   input objects {set of attributes} for which predictions are to be made; also a data frame with one or more rows with attributes  \n",
    "- k:     algorithm parameter \n",
    "\n",
    "#### Output\n",
    "- List to predicted labels"
   ]
  },
  {
   "cell_type": "code",
   "execution_count": 3,
   "metadata": {},
   "outputs": [],
   "source": [
    "knn <- function(data, obj, k){\n",
    "    x_data = data[ ,-length(data)]\n",
    "    y_data = data[ ,length(data)]\n",
    "    label = c()\n",
    "    for(each in 1:nrow(obj)){\n",
    "        distance = c()\n",
    "        for(row in 1:nrow(data)){\n",
    "            distance[row] = dist(x_data[row,], obj[each,])\n",
    "        }\n",
    "        sort_order = order(distance)\n",
    "        sorted_label = y_data[sort_order][1:k]\n",
    "        sorted_distance = distance[sort_order][1:k]\n",
    "        label[each] = mode(sorted_label, sorted_distance)        \n",
    "    }\n",
    "    return(label)\n",
    "}"
   ]
  },
  {
   "cell_type": "code",
   "execution_count": 4,
   "metadata": {},
   "outputs": [],
   "source": [
    "# data pre-prosessing - reading data, removing unnecessary cols, moving labels to last col\n",
    "data <- read.csv(\"data.csv\", na.strings = c('',\"NA\"))\n",
    "data = data[,c(-1,-ncol(data))]\n",
    "data = data[,c(2:ncol(data),1)]"
   ]
  },
  {
   "cell_type": "code",
   "execution_count": 5,
   "metadata": {},
   "outputs": [
    {
     "data": {
      "text/html": [
       "<table>\n",
       "<thead><tr><th scope=col>radius_mean</th><th scope=col>texture_mean</th><th scope=col>perimeter_mean</th><th scope=col>area_mean</th><th scope=col>smoothness_mean</th><th scope=col>compactness_mean</th><th scope=col>concavity_mean</th><th scope=col>concave.points_mean</th><th scope=col>symmetry_mean</th><th scope=col>fractal_dimension_mean</th><th scope=col>...</th><th scope=col>texture_worst</th><th scope=col>perimeter_worst</th><th scope=col>area_worst</th><th scope=col>smoothness_worst</th><th scope=col>compactness_worst</th><th scope=col>concavity_worst</th><th scope=col>concave.points_worst</th><th scope=col>symmetry_worst</th><th scope=col>fractal_dimension_worst</th><th scope=col>diagnosis</th></tr></thead>\n",
       "<tbody>\n",
       "\t<tr><td>17.99  </td><td>10.38  </td><td>122.80 </td><td>1001.0 </td><td>0.11840</td><td>0.27760</td><td>0.3001 </td><td>0.14710</td><td>0.2419 </td><td>0.07871</td><td>...    </td><td>17.33  </td><td>184.60 </td><td>2019.0 </td><td>0.1622 </td><td>0.6656 </td><td>0.7119 </td><td>0.2654 </td><td>0.4601 </td><td>0.11890</td><td>M      </td></tr>\n",
       "\t<tr><td>20.57  </td><td>17.77  </td><td>132.90 </td><td>1326.0 </td><td>0.08474</td><td>0.07864</td><td>0.0869 </td><td>0.07017</td><td>0.1812 </td><td>0.05667</td><td>...    </td><td>23.41  </td><td>158.80 </td><td>1956.0 </td><td>0.1238 </td><td>0.1866 </td><td>0.2416 </td><td>0.1860 </td><td>0.2750 </td><td>0.08902</td><td>M      </td></tr>\n",
       "\t<tr><td>19.69  </td><td>21.25  </td><td>130.00 </td><td>1203.0 </td><td>0.10960</td><td>0.15990</td><td>0.1974 </td><td>0.12790</td><td>0.2069 </td><td>0.05999</td><td>...    </td><td>25.53  </td><td>152.50 </td><td>1709.0 </td><td>0.1444 </td><td>0.4245 </td><td>0.4504 </td><td>0.2430 </td><td>0.3613 </td><td>0.08758</td><td>M      </td></tr>\n",
       "\t<tr><td>11.42  </td><td>20.38  </td><td> 77.58 </td><td> 386.1 </td><td>0.14250</td><td>0.28390</td><td>0.2414 </td><td>0.10520</td><td>0.2597 </td><td>0.09744</td><td>...    </td><td>26.50  </td><td> 98.87 </td><td> 567.7 </td><td>0.2098 </td><td>0.8663 </td><td>0.6869 </td><td>0.2575 </td><td>0.6638 </td><td>0.17300</td><td>M      </td></tr>\n",
       "\t<tr><td>20.29  </td><td>14.34  </td><td>135.10 </td><td>1297.0 </td><td>0.10030</td><td>0.13280</td><td>0.1980 </td><td>0.10430</td><td>0.1809 </td><td>0.05883</td><td>...    </td><td>16.67  </td><td>152.20 </td><td>1575.0 </td><td>0.1374 </td><td>0.2050 </td><td>0.4000 </td><td>0.1625 </td><td>0.2364 </td><td>0.07678</td><td>M      </td></tr>\n",
       "</tbody>\n",
       "</table>\n"
      ],
      "text/latex": [
       "\\begin{tabular}{r|lllllllllllllllllllllllllllllll}\n",
       " radius\\_mean & texture\\_mean & perimeter\\_mean & area\\_mean & smoothness\\_mean & compactness\\_mean & concavity\\_mean & concave.points\\_mean & symmetry\\_mean & fractal\\_dimension\\_mean & ... & texture\\_worst & perimeter\\_worst & area\\_worst & smoothness\\_worst & compactness\\_worst & concavity\\_worst & concave.points\\_worst & symmetry\\_worst & fractal\\_dimension\\_worst & diagnosis\\\\\n",
       "\\hline\n",
       "\t 17.99   & 10.38   & 122.80  & 1001.0  & 0.11840 & 0.27760 & 0.3001  & 0.14710 & 0.2419  & 0.07871 & ...     & 17.33   & 184.60  & 2019.0  & 0.1622  & 0.6656  & 0.7119  & 0.2654  & 0.4601  & 0.11890 & M      \\\\\n",
       "\t 20.57   & 17.77   & 132.90  & 1326.0  & 0.08474 & 0.07864 & 0.0869  & 0.07017 & 0.1812  & 0.05667 & ...     & 23.41   & 158.80  & 1956.0  & 0.1238  & 0.1866  & 0.2416  & 0.1860  & 0.2750  & 0.08902 & M      \\\\\n",
       "\t 19.69   & 21.25   & 130.00  & 1203.0  & 0.10960 & 0.15990 & 0.1974  & 0.12790 & 0.2069  & 0.05999 & ...     & 25.53   & 152.50  & 1709.0  & 0.1444  & 0.4245  & 0.4504  & 0.2430  & 0.3613  & 0.08758 & M      \\\\\n",
       "\t 11.42   & 20.38   &  77.58  &  386.1  & 0.14250 & 0.28390 & 0.2414  & 0.10520 & 0.2597  & 0.09744 & ...     & 26.50   &  98.87  &  567.7  & 0.2098  & 0.8663  & 0.6869  & 0.2575  & 0.6638  & 0.17300 & M      \\\\\n",
       "\t 20.29   & 14.34   & 135.10  & 1297.0  & 0.10030 & 0.13280 & 0.1980  & 0.10430 & 0.1809  & 0.05883 & ...     & 16.67   & 152.20  & 1575.0  & 0.1374  & 0.2050  & 0.4000  & 0.1625  & 0.2364  & 0.07678 & M      \\\\\n",
       "\\end{tabular}\n"
      ],
      "text/markdown": [
       "\n",
       "| radius_mean | texture_mean | perimeter_mean | area_mean | smoothness_mean | compactness_mean | concavity_mean | concave.points_mean | symmetry_mean | fractal_dimension_mean | ... | texture_worst | perimeter_worst | area_worst | smoothness_worst | compactness_worst | concavity_worst | concave.points_worst | symmetry_worst | fractal_dimension_worst | diagnosis |\n",
       "|---|---|---|---|---|---|---|---|---|---|---|---|---|---|---|---|---|---|---|---|---|\n",
       "| 17.99   | 10.38   | 122.80  | 1001.0  | 0.11840 | 0.27760 | 0.3001  | 0.14710 | 0.2419  | 0.07871 | ...     | 17.33   | 184.60  | 2019.0  | 0.1622  | 0.6656  | 0.7119  | 0.2654  | 0.4601  | 0.11890 | M       |\n",
       "| 20.57   | 17.77   | 132.90  | 1326.0  | 0.08474 | 0.07864 | 0.0869  | 0.07017 | 0.1812  | 0.05667 | ...     | 23.41   | 158.80  | 1956.0  | 0.1238  | 0.1866  | 0.2416  | 0.1860  | 0.2750  | 0.08902 | M       |\n",
       "| 19.69   | 21.25   | 130.00  | 1203.0  | 0.10960 | 0.15990 | 0.1974  | 0.12790 | 0.2069  | 0.05999 | ...     | 25.53   | 152.50  | 1709.0  | 0.1444  | 0.4245  | 0.4504  | 0.2430  | 0.3613  | 0.08758 | M       |\n",
       "| 11.42   | 20.38   |  77.58  |  386.1  | 0.14250 | 0.28390 | 0.2414  | 0.10520 | 0.2597  | 0.09744 | ...     | 26.50   |  98.87  |  567.7  | 0.2098  | 0.8663  | 0.6869  | 0.2575  | 0.6638  | 0.17300 | M       |\n",
       "| 20.29   | 14.34   | 135.10  | 1297.0  | 0.10030 | 0.13280 | 0.1980  | 0.10430 | 0.1809  | 0.05883 | ...     | 16.67   | 152.20  | 1575.0  | 0.1374  | 0.2050  | 0.4000  | 0.1625  | 0.2364  | 0.07678 | M       |\n",
       "\n"
      ],
      "text/plain": [
       "  radius_mean texture_mean perimeter_mean area_mean smoothness_mean\n",
       "1 17.99       10.38        122.80         1001.0    0.11840        \n",
       "2 20.57       17.77        132.90         1326.0    0.08474        \n",
       "3 19.69       21.25        130.00         1203.0    0.10960        \n",
       "4 11.42       20.38         77.58          386.1    0.14250        \n",
       "5 20.29       14.34        135.10         1297.0    0.10030        \n",
       "  compactness_mean concavity_mean concave.points_mean symmetry_mean\n",
       "1 0.27760          0.3001         0.14710             0.2419       \n",
       "2 0.07864          0.0869         0.07017             0.1812       \n",
       "3 0.15990          0.1974         0.12790             0.2069       \n",
       "4 0.28390          0.2414         0.10520             0.2597       \n",
       "5 0.13280          0.1980         0.10430             0.1809       \n",
       "  fractal_dimension_mean ... texture_worst perimeter_worst area_worst\n",
       "1 0.07871                ... 17.33         184.60          2019.0    \n",
       "2 0.05667                ... 23.41         158.80          1956.0    \n",
       "3 0.05999                ... 25.53         152.50          1709.0    \n",
       "4 0.09744                ... 26.50          98.87           567.7    \n",
       "5 0.05883                ... 16.67         152.20          1575.0    \n",
       "  smoothness_worst compactness_worst concavity_worst concave.points_worst\n",
       "1 0.1622           0.6656            0.7119          0.2654              \n",
       "2 0.1238           0.1866            0.2416          0.1860              \n",
       "3 0.1444           0.4245            0.4504          0.2430              \n",
       "4 0.2098           0.8663            0.6869          0.2575              \n",
       "5 0.1374           0.2050            0.4000          0.1625              \n",
       "  symmetry_worst fractal_dimension_worst diagnosis\n",
       "1 0.4601         0.11890                 M        \n",
       "2 0.2750         0.08902                 M        \n",
       "3 0.3613         0.08758                 M        \n",
       "4 0.6638         0.17300                 M        \n",
       "5 0.2364         0.07678                 M        "
      ]
     },
     "metadata": {},
     "output_type": "display_data"
    }
   ],
   "source": [
    "head(data, 5)"
   ]
  },
  {
   "cell_type": "code",
   "execution_count": 6,
   "metadata": {},
   "outputs": [],
   "source": [
    "#data normalisation\n",
    "for(i in 1:(ncol(data)-1)){\n",
    "    data[,i] = (data[,i] - min(data[,i]))/(max(data[,i]) - min(data[,i]))\n",
    "}"
   ]
  },
  {
   "cell_type": "code",
   "execution_count": 7,
   "metadata": {},
   "outputs": [
    {
     "data": {
      "text/html": [
       "<table>\n",
       "<thead><tr><th scope=col>radius_mean</th><th scope=col>texture_mean</th><th scope=col>perimeter_mean</th><th scope=col>area_mean</th><th scope=col>smoothness_mean</th><th scope=col>compactness_mean</th><th scope=col>concavity_mean</th><th scope=col>concave.points_mean</th><th scope=col>symmetry_mean</th><th scope=col>fractal_dimension_mean</th><th scope=col>...</th><th scope=col>texture_worst</th><th scope=col>perimeter_worst</th><th scope=col>area_worst</th><th scope=col>smoothness_worst</th><th scope=col>compactness_worst</th><th scope=col>concavity_worst</th><th scope=col>concave.points_worst</th><th scope=col>symmetry_worst</th><th scope=col>fractal_dimension_worst</th><th scope=col>diagnosis</th></tr></thead>\n",
       "<tbody>\n",
       "\t<tr><td>0.5210374 </td><td>0.0226581 </td><td>0.5459885 </td><td>0.3637328 </td><td>0.5937528 </td><td>0.7920373 </td><td>0.7031396 </td><td>0.7311133 </td><td>0.6863636 </td><td>0.6055181 </td><td>...       </td><td>0.1415245 </td><td>0.6683102 </td><td>0.45069799</td><td>0.6011358 </td><td>0.6192916 </td><td>0.5686102 </td><td>0.9120275 </td><td>0.5984624 </td><td>0.4188640 </td><td>M         </td></tr>\n",
       "\t<tr><td>0.6431445 </td><td>0.2725736 </td><td>0.6157833 </td><td>0.5015907 </td><td>0.2898799 </td><td>0.1817680 </td><td>0.2036082 </td><td>0.3487575 </td><td>0.3797980 </td><td>0.1413227 </td><td>...       </td><td>0.3035714 </td><td>0.5398177 </td><td>0.43521431</td><td>0.3475533 </td><td>0.1545634 </td><td>0.1929712 </td><td>0.6391753 </td><td>0.2335896 </td><td>0.2228781 </td><td>M         </td></tr>\n",
       "\t<tr><td>0.6014956 </td><td>0.3902604 </td><td>0.5957432 </td><td>0.4494168 </td><td>0.5143089 </td><td>0.4310165 </td><td>0.4625117 </td><td>0.6356859 </td><td>0.5095960 </td><td>0.2112468 </td><td>...       </td><td>0.3600746 </td><td>0.5084417 </td><td>0.37450845</td><td>0.4835898 </td><td>0.3853751 </td><td>0.3597444 </td><td>0.8350515 </td><td>0.4037059 </td><td>0.2134330 </td><td>M         </td></tr>\n",
       "\t<tr><td>0.2100904 </td><td>0.3608387 </td><td>0.2335015 </td><td>0.1029056 </td><td>0.8113208 </td><td>0.8113613 </td><td>0.5656045 </td><td>0.5228628 </td><td>0.7762626 </td><td>1.0000000 </td><td>...       </td><td>0.3859275 </td><td>0.2413467 </td><td>0.09400806</td><td>0.9154725 </td><td>0.8140117 </td><td>0.5486422 </td><td>0.8848797 </td><td>1.0000000 </td><td>0.7737111 </td><td>M         </td></tr>\n",
       "\t<tr><td>0.6298926 </td><td>0.1565776 </td><td>0.6309861 </td><td>0.4892895 </td><td>0.4303512 </td><td>0.3478928 </td><td>0.4639175 </td><td>0.5183897 </td><td>0.3782828 </td><td>0.1868155 </td><td>...       </td><td>0.1239339 </td><td>0.5069476 </td><td>0.34157491</td><td>0.4373638 </td><td>0.1724151 </td><td>0.3194888 </td><td>0.5584192 </td><td>0.1575005 </td><td>0.1425948 </td><td>M         </td></tr>\n",
       "</tbody>\n",
       "</table>\n"
      ],
      "text/latex": [
       "\\begin{tabular}{r|lllllllllllllllllllllllllllllll}\n",
       " radius\\_mean & texture\\_mean & perimeter\\_mean & area\\_mean & smoothness\\_mean & compactness\\_mean & concavity\\_mean & concave.points\\_mean & symmetry\\_mean & fractal\\_dimension\\_mean & ... & texture\\_worst & perimeter\\_worst & area\\_worst & smoothness\\_worst & compactness\\_worst & concavity\\_worst & concave.points\\_worst & symmetry\\_worst & fractal\\_dimension\\_worst & diagnosis\\\\\n",
       "\\hline\n",
       "\t 0.5210374  & 0.0226581  & 0.5459885  & 0.3637328  & 0.5937528  & 0.7920373  & 0.7031396  & 0.7311133  & 0.6863636  & 0.6055181  & ...        & 0.1415245  & 0.6683102  & 0.45069799 & 0.6011358  & 0.6192916  & 0.5686102  & 0.9120275  & 0.5984624  & 0.4188640  & M         \\\\\n",
       "\t 0.6431445  & 0.2725736  & 0.6157833  & 0.5015907  & 0.2898799  & 0.1817680  & 0.2036082  & 0.3487575  & 0.3797980  & 0.1413227  & ...        & 0.3035714  & 0.5398177  & 0.43521431 & 0.3475533  & 0.1545634  & 0.1929712  & 0.6391753  & 0.2335896  & 0.2228781  & M         \\\\\n",
       "\t 0.6014956  & 0.3902604  & 0.5957432  & 0.4494168  & 0.5143089  & 0.4310165  & 0.4625117  & 0.6356859  & 0.5095960  & 0.2112468  & ...        & 0.3600746  & 0.5084417  & 0.37450845 & 0.4835898  & 0.3853751  & 0.3597444  & 0.8350515  & 0.4037059  & 0.2134330  & M         \\\\\n",
       "\t 0.2100904  & 0.3608387  & 0.2335015  & 0.1029056  & 0.8113208  & 0.8113613  & 0.5656045  & 0.5228628  & 0.7762626  & 1.0000000  & ...        & 0.3859275  & 0.2413467  & 0.09400806 & 0.9154725  & 0.8140117  & 0.5486422  & 0.8848797  & 1.0000000  & 0.7737111  & M         \\\\\n",
       "\t 0.6298926  & 0.1565776  & 0.6309861  & 0.4892895  & 0.4303512  & 0.3478928  & 0.4639175  & 0.5183897  & 0.3782828  & 0.1868155  & ...        & 0.1239339  & 0.5069476  & 0.34157491 & 0.4373638  & 0.1724151  & 0.3194888  & 0.5584192  & 0.1575005  & 0.1425948  & M         \\\\\n",
       "\\end{tabular}\n"
      ],
      "text/markdown": [
       "\n",
       "| radius_mean | texture_mean | perimeter_mean | area_mean | smoothness_mean | compactness_mean | concavity_mean | concave.points_mean | symmetry_mean | fractal_dimension_mean | ... | texture_worst | perimeter_worst | area_worst | smoothness_worst | compactness_worst | concavity_worst | concave.points_worst | symmetry_worst | fractal_dimension_worst | diagnosis |\n",
       "|---|---|---|---|---|---|---|---|---|---|---|---|---|---|---|---|---|---|---|---|---|\n",
       "| 0.5210374  | 0.0226581  | 0.5459885  | 0.3637328  | 0.5937528  | 0.7920373  | 0.7031396  | 0.7311133  | 0.6863636  | 0.6055181  | ...        | 0.1415245  | 0.6683102  | 0.45069799 | 0.6011358  | 0.6192916  | 0.5686102  | 0.9120275  | 0.5984624  | 0.4188640  | M          |\n",
       "| 0.6431445  | 0.2725736  | 0.6157833  | 0.5015907  | 0.2898799  | 0.1817680  | 0.2036082  | 0.3487575  | 0.3797980  | 0.1413227  | ...        | 0.3035714  | 0.5398177  | 0.43521431 | 0.3475533  | 0.1545634  | 0.1929712  | 0.6391753  | 0.2335896  | 0.2228781  | M          |\n",
       "| 0.6014956  | 0.3902604  | 0.5957432  | 0.4494168  | 0.5143089  | 0.4310165  | 0.4625117  | 0.6356859  | 0.5095960  | 0.2112468  | ...        | 0.3600746  | 0.5084417  | 0.37450845 | 0.4835898  | 0.3853751  | 0.3597444  | 0.8350515  | 0.4037059  | 0.2134330  | M          |\n",
       "| 0.2100904  | 0.3608387  | 0.2335015  | 0.1029056  | 0.8113208  | 0.8113613  | 0.5656045  | 0.5228628  | 0.7762626  | 1.0000000  | ...        | 0.3859275  | 0.2413467  | 0.09400806 | 0.9154725  | 0.8140117  | 0.5486422  | 0.8848797  | 1.0000000  | 0.7737111  | M          |\n",
       "| 0.6298926  | 0.1565776  | 0.6309861  | 0.4892895  | 0.4303512  | 0.3478928  | 0.4639175  | 0.5183897  | 0.3782828  | 0.1868155  | ...        | 0.1239339  | 0.5069476  | 0.34157491 | 0.4373638  | 0.1724151  | 0.3194888  | 0.5584192  | 0.1575005  | 0.1425948  | M          |\n",
       "\n"
      ],
      "text/plain": [
       "  radius_mean texture_mean perimeter_mean area_mean smoothness_mean\n",
       "1 0.5210374   0.0226581    0.5459885      0.3637328 0.5937528      \n",
       "2 0.6431445   0.2725736    0.6157833      0.5015907 0.2898799      \n",
       "3 0.6014956   0.3902604    0.5957432      0.4494168 0.5143089      \n",
       "4 0.2100904   0.3608387    0.2335015      0.1029056 0.8113208      \n",
       "5 0.6298926   0.1565776    0.6309861      0.4892895 0.4303512      \n",
       "  compactness_mean concavity_mean concave.points_mean symmetry_mean\n",
       "1 0.7920373        0.7031396      0.7311133           0.6863636    \n",
       "2 0.1817680        0.2036082      0.3487575           0.3797980    \n",
       "3 0.4310165        0.4625117      0.6356859           0.5095960    \n",
       "4 0.8113613        0.5656045      0.5228628           0.7762626    \n",
       "5 0.3478928        0.4639175      0.5183897           0.3782828    \n",
       "  fractal_dimension_mean ... texture_worst perimeter_worst area_worst\n",
       "1 0.6055181              ... 0.1415245     0.6683102       0.45069799\n",
       "2 0.1413227              ... 0.3035714     0.5398177       0.43521431\n",
       "3 0.2112468              ... 0.3600746     0.5084417       0.37450845\n",
       "4 1.0000000              ... 0.3859275     0.2413467       0.09400806\n",
       "5 0.1868155              ... 0.1239339     0.5069476       0.34157491\n",
       "  smoothness_worst compactness_worst concavity_worst concave.points_worst\n",
       "1 0.6011358        0.6192916         0.5686102       0.9120275           \n",
       "2 0.3475533        0.1545634         0.1929712       0.6391753           \n",
       "3 0.4835898        0.3853751         0.3597444       0.8350515           \n",
       "4 0.9154725        0.8140117         0.5486422       0.8848797           \n",
       "5 0.4373638        0.1724151         0.3194888       0.5584192           \n",
       "  symmetry_worst fractal_dimension_worst diagnosis\n",
       "1 0.5984624      0.4188640               M        \n",
       "2 0.2335896      0.2228781               M        \n",
       "3 0.4037059      0.2134330               M        \n",
       "4 1.0000000      0.7737111               M        \n",
       "5 0.1575005      0.1425948               M        "
      ]
     },
     "metadata": {},
     "output_type": "display_data"
    }
   ],
   "source": [
    "head(data, 5)"
   ]
  },
  {
   "cell_type": "code",
   "execution_count": 8,
   "metadata": {},
   "outputs": [],
   "source": [
    "# shuffling the data points and spliting in test and train data at random\n",
    "set.seed(123)\n",
    "shuf  = sample(2, nrow(data), replace = T, prob = c(0.8,0.2))\n",
    "train = data[which(shuf == 1), ]\n",
    "test  = data[which(shuf != 1), ]\n",
    "\n",
    "x_test = test[ ,-length(train)]\n",
    "y_test = test[ ,length(train)]"
   ]
  },
  {
   "cell_type": "code",
   "execution_count": 9,
   "metadata": {},
   "outputs": [],
   "source": [
    "# loop to findout the performance matrix for different K values\n",
    "start = Sys.time()\n",
    "k_set = seq(1,15,2)\n",
    "k_accus = data.frame()\n",
    "for(k in k_set){\n",
    "    y_pred = knn(train, x_test, k)\n",
    "    accus  = CalcAccus(y_pred, y_test, k)\n",
    "    k_accus = rbind.data.frame(k_accus, accus)\n",
    "}\n",
    "end = Sys.time()"
   ]
  },
  {
   "cell_type": "code",
   "execution_count": 10,
   "metadata": {},
   "outputs": [
    {
     "data": {
      "text/html": [
       "<table>\n",
       "<thead><tr><th scope=col>k</th><th scope=col>overall</th><th scope=col>positive</th><th scope=col>negative</th><th scope=col>MCC</th></tr></thead>\n",
       "<tbody>\n",
       "\t<tr><td> 1       </td><td>0.9272727</td><td>0.9090909</td><td>0.9545455</td><td>0.8531252</td></tr>\n",
       "\t<tr><td> 3       </td><td>0.9454545</td><td>0.9696970</td><td>0.9090909</td><td>0.8861419</td></tr>\n",
       "\t<tr><td> 5       </td><td>0.9545455</td><td>0.9696970</td><td>0.9318182</td><td>0.9051065</td></tr>\n",
       "\t<tr><td> 7       </td><td>0.9545455</td><td>0.9696970</td><td>0.9318182</td><td>0.9051065</td></tr>\n",
       "\t<tr><td> 9       </td><td>0.9636364</td><td>0.9848485</td><td>0.9318182</td><td>0.9243377</td></tr>\n",
       "\t<tr><td>11       </td><td>0.9545455</td><td>0.9848485</td><td>0.9090909</td><td>0.9057116</td></tr>\n",
       "\t<tr><td>13       </td><td>0.9636364</td><td>1.0000000</td><td>0.9090909</td><td>0.9258201</td></tr>\n",
       "\t<tr><td>15       </td><td>0.9636364</td><td>1.0000000</td><td>0.9090909</td><td>0.9258201</td></tr>\n",
       "</tbody>\n",
       "</table>\n"
      ],
      "text/latex": [
       "\\begin{tabular}{r|lllll}\n",
       " k & overall & positive & negative & MCC\\\\\n",
       "\\hline\n",
       "\t  1        & 0.9272727 & 0.9090909 & 0.9545455 & 0.8531252\\\\\n",
       "\t  3        & 0.9454545 & 0.9696970 & 0.9090909 & 0.8861419\\\\\n",
       "\t  5        & 0.9545455 & 0.9696970 & 0.9318182 & 0.9051065\\\\\n",
       "\t  7        & 0.9545455 & 0.9696970 & 0.9318182 & 0.9051065\\\\\n",
       "\t  9        & 0.9636364 & 0.9848485 & 0.9318182 & 0.9243377\\\\\n",
       "\t 11        & 0.9545455 & 0.9848485 & 0.9090909 & 0.9057116\\\\\n",
       "\t 13        & 0.9636364 & 1.0000000 & 0.9090909 & 0.9258201\\\\\n",
       "\t 15        & 0.9636364 & 1.0000000 & 0.9090909 & 0.9258201\\\\\n",
       "\\end{tabular}\n"
      ],
      "text/markdown": [
       "\n",
       "| k | overall | positive | negative | MCC |\n",
       "|---|---|---|---|---|\n",
       "|  1        | 0.9272727 | 0.9090909 | 0.9545455 | 0.8531252 |\n",
       "|  3        | 0.9454545 | 0.9696970 | 0.9090909 | 0.8861419 |\n",
       "|  5        | 0.9545455 | 0.9696970 | 0.9318182 | 0.9051065 |\n",
       "|  7        | 0.9545455 | 0.9696970 | 0.9318182 | 0.9051065 |\n",
       "|  9        | 0.9636364 | 0.9848485 | 0.9318182 | 0.9243377 |\n",
       "| 11        | 0.9545455 | 0.9848485 | 0.9090909 | 0.9057116 |\n",
       "| 13        | 0.9636364 | 1.0000000 | 0.9090909 | 0.9258201 |\n",
       "| 15        | 0.9636364 | 1.0000000 | 0.9090909 | 0.9258201 |\n",
       "\n"
      ],
      "text/plain": [
       "  k  overall   positive  negative  MCC      \n",
       "1  1 0.9272727 0.9090909 0.9545455 0.8531252\n",
       "2  3 0.9454545 0.9696970 0.9090909 0.8861419\n",
       "3  5 0.9545455 0.9696970 0.9318182 0.9051065\n",
       "4  7 0.9545455 0.9696970 0.9318182 0.9051065\n",
       "5  9 0.9636364 0.9848485 0.9318182 0.9243377\n",
       "6 11 0.9545455 0.9848485 0.9090909 0.9057116\n",
       "7 13 0.9636364 1.0000000 0.9090909 0.9258201\n",
       "8 15 0.9636364 1.0000000 0.9090909 0.9258201"
      ]
     },
     "metadata": {},
     "output_type": "display_data"
    }
   ],
   "source": [
    "k_accus"
   ]
  }
 ],
 "metadata": {
  "kernelspec": {
   "display_name": "R",
   "language": "R",
   "name": "ir"
  },
  "language_info": {
   "codemirror_mode": "r",
   "file_extension": ".r",
   "mimetype": "text/x-r-source",
   "name": "R",
   "pygments_lexer": "r",
   "version": "3.6.1"
  }
 },
 "nbformat": 4,
 "nbformat_minor": 2
}
