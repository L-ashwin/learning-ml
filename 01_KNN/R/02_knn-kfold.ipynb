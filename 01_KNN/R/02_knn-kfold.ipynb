{
 "cells": [
  {
   "cell_type": "markdown",
   "metadata": {},
   "source": [
    "# K Nearest Neighbours & K Fold CV"
   ]
  },
  {
   "cell_type": "code",
   "execution_count": 5,
   "metadata": {},
   "outputs": [],
   "source": [
    "# Function for distance between attribute vectors and mode\n",
    "dist <- function(v1, v2){\n",
    "  return(sqrt(sum((v1-v2)^2)))\n",
    "}\n",
    "mode <- function(lab,dist){\n",
    "  return(names(which.max(table(lab))))\n",
    "}"
   ]
  },
  {
   "cell_type": "code",
   "execution_count": 6,
   "metadata": {},
   "outputs": [],
   "source": [
    "# function to calculate overall, positive, negative, accuracy and MCC\n",
    "CalcAccus <- function(pred, true){\n",
    "    tab = table(true, pred)\n",
    "    TP = tab[1,1]\n",
    "    FP = tab[2,1]\n",
    "    FN = tab[1,2]\n",
    "    TN = tab[2,2]\n",
    "    \n",
    "    accu_o = (TP+TN)/(TP+TN+FP+FN)\n",
    "    accu_P = TP/(TP+FN)\n",
    "    accu_N = TN/(TN+FP)\n",
    "    MCC    = (TP*TN - FP*FN)/sqrt((TP+FP)*(TP+FN)*(TN+FP)*(TN+FN))\n",
    "   \n",
    "    return(c(accu_o, accu_P, accu_N, MCC))\n",
    "}"
   ]
  },
  {
   "cell_type": "code",
   "execution_count": 7,
   "metadata": {},
   "outputs": [],
   "source": [
    "# knn    - Function to Predict the label of data point given set of attributes\n",
    "# Input  - 1) data -> data frame containing attributes and labels \n",
    "#                     (Labels in last column)\n",
    "#          2) obj  -> New data point (set of attributes) for which label is \n",
    "#                     to be predicted / data frame with each row as a input set.\n",
    "#          3) K    -> Algorithm parameter. Single value or list of different Ks.\n",
    "\n",
    "# Output - Outputs the predicted label or a column of Predicted labels depending \n",
    "#          on input, if multiple values of k are given predictions for them are\n",
    "#          added as separate columns.\n",
    "\n",
    "knn <- function(data, obj, K){\n",
    "    x_data = data[ ,-length(data)]\n",
    "    y_data = data[ ,length(data)]\n",
    "    label = c()\n",
    "    for(each in 1:nrow(obj)){\n",
    "        distance = c()\n",
    "        for(row in 1:nrow(data)){\n",
    "            distance[row] = dist(x_data[row,], obj[each,])\n",
    "        }\n",
    "        sort_order = order(distance)\n",
    "        \n",
    "        lab = c()\n",
    "        for(k in K){\n",
    "            sorted_label = y_data[sort_order][1:k]\n",
    "            sorted_distance = distance[sort_order][1:k]\n",
    "            lab = cbind(lab,mode(sorted_label, sorted_distance),deparse.level = 0)\n",
    "        }\n",
    "        \n",
    "        label = rbind(label,lab,deparse.level = 0)\n",
    "    }\n",
    "    return(label)\n",
    "}"
   ]
  },
  {
   "cell_type": "code",
   "execution_count": 8,
   "metadata": {},
   "outputs": [],
   "source": [
    "# knn    - Function to Predict the label of data point given set of attributes\n",
    "# Input  - 1) data  -> data frame containing attributes and labels \n",
    "#                      (Labels in last column)\n",
    "#          2) k     -> Algorithm parameter. \n",
    "#          3) knn_k -> Algorithm parameter for prediction algorithm used. \n",
    "#                      Single value or list of different Ks.\n",
    "\n",
    "# Output - Outputs single row or matrix where each row gives, \n",
    "#          Overall Accuracy, Positive Accuracy, Negative Accuracy \n",
    "#          & MCC for each Knn_k\n",
    "\n",
    "kFold <- function(data, k, knn_k){\n",
    "    data = data[sample(nrow(data)),]\n",
    "    n = nrow(data) %/% k\n",
    "    m = length(knn_k)\n",
    "    \n",
    "    PerfMat = matrix(0,m,5)\n",
    "    for(i in 1:k){ #loop for creating different folds\n",
    "        test = data[seq((1+(i-1)*n),(n*i)), ]\n",
    "        x_test = test[,-ncol(test)]\n",
    "        y_test =test[,ncol(test)]\n",
    "        train = data[-seq((1+(i-1)*n),(n*i)), ]\n",
    "    \n",
    "        y_pred = knn(train, x_test, knn_k)\n",
    "    \n",
    "        PerfMatK = matrix(0,m,5)\n",
    "        PerfMatK[,1] = knn_k\n",
    "        for(i in 1:m){ #loop over predictions for different values of knn_k\n",
    "            PerfMatK[i,2:5] = CalcAccus(y_pred[,i], y_test)\n",
    "        }\n",
    "        PerfMat = PerfMat + PerfMatK\n",
    "        #adding the accuracies of each fold which will be later devided by\n",
    "        #number of folds to get average accuracy\n",
    "    }\n",
    "    colnames(PerfMat) = c(\"K\",\"Overall Accuracy\", \"Positive Accuracy\", \n",
    "                          \"Negative Accuracy\", \"MCC\")\n",
    "    return(PerfMat/k)\n",
    "}"
   ]
  },
  {
   "cell_type": "code",
   "execution_count": 28,
   "metadata": {},
   "outputs": [],
   "source": [
    "# data pre-prosessing - reading data, removing unnecessary cols, moving labels to last col\n",
    "data <- read.csv(\"data.csv\", na.strings = c('',\"NA\"))\n",
    "data = data[,c(-1,-ncol(data))]\n",
    "data = data[,c(2:ncol(data),1)]\n",
    "\n",
    "#data normalisation\n",
    "for(i in 1:(ncol(data)-1)){\n",
    "    data[,i] = (data[,i] - min(data[,i]))/(max(data[,i]) - min(data[,i]))\n",
    "}\n",
    "\n",
    "# shuffling the data points and spliting in test and train data at random\n",
    "set.seed(123)\n",
    "shuf  = sample(2, nrow(data), replace = T, prob = c(0.9,0.1))\n",
    "train = data[which(shuf == 1), ]\n",
    "test  = data[which(shuf != 1), ]\n",
    "x_test = test[,-length(test)]\n",
    "y_test = test[,length(test)]"
   ]
  },
  {
   "cell_type": "code",
   "execution_count": 15,
   "metadata": {},
   "outputs": [],
   "source": [
    "# Using K-Fold for choosing best value of KNN Parameter K\n",
    "k = seq(1,17,2)\n",
    "mat = kFold(train, 5, k)"
   ]
  },
  {
   "cell_type": "code",
   "execution_count": 17,
   "metadata": {},
   "outputs": [
    {
     "data": {
      "text/html": [
       "<table>\n",
       "<thead><tr><th scope=col>K</th><th scope=col>Overall Accuracy</th><th scope=col>Positive Accuracy</th><th scope=col>Negative Accuracy</th><th scope=col>MCC</th></tr></thead>\n",
       "<tbody>\n",
       "\t<tr><td> 1       </td><td>0.9533981</td><td>0.9636580</td><td>0.9363905</td><td>0.9010002</td></tr>\n",
       "\t<tr><td> 3       </td><td>0.9631068</td><td>0.9819539</td><td>0.9314277</td><td>0.9207649</td></tr>\n",
       "\t<tr><td> 5       </td><td>0.9631068</td><td>0.9819539</td><td>0.9314277</td><td>0.9207649</td></tr>\n",
       "\t<tr><td> 7       </td><td>0.9669903</td><td>0.9849389</td><td>0.9369753</td><td>0.9296568</td></tr>\n",
       "\t<tr><td> 9       </td><td>0.9650485</td><td>0.9879692</td><td>0.9260144</td><td>0.9250973</td></tr>\n",
       "\t<tr><td>11       </td><td>0.9592233</td><td>0.9848937</td><td>0.9156969</td><td>0.9132436</td></tr>\n",
       "\t<tr><td>13       </td><td>0.9650485</td><td>0.9909091</td><td>0.9209601</td><td>0.9255295</td></tr>\n",
       "\t<tr><td>15       </td><td>0.9669903</td><td>0.9969697</td><td>0.9156969</td><td>0.9299374</td></tr>\n",
       "\t<tr><td>17       </td><td>0.9669903</td><td>0.9939394</td><td>0.9212525</td><td>0.9298599</td></tr>\n",
       "</tbody>\n",
       "</table>\n"
      ],
      "text/latex": [
       "\\begin{tabular}{lllll}\n",
       " K & Overall Accuracy & Positive Accuracy & Negative Accuracy & MCC\\\\\n",
       "\\hline\n",
       "\t  1        & 0.9533981 & 0.9636580 & 0.9363905 & 0.9010002\\\\\n",
       "\t  3        & 0.9631068 & 0.9819539 & 0.9314277 & 0.9207649\\\\\n",
       "\t  5        & 0.9631068 & 0.9819539 & 0.9314277 & 0.9207649\\\\\n",
       "\t  7        & 0.9669903 & 0.9849389 & 0.9369753 & 0.9296568\\\\\n",
       "\t  9        & 0.9650485 & 0.9879692 & 0.9260144 & 0.9250973\\\\\n",
       "\t 11        & 0.9592233 & 0.9848937 & 0.9156969 & 0.9132436\\\\\n",
       "\t 13        & 0.9650485 & 0.9909091 & 0.9209601 & 0.9255295\\\\\n",
       "\t 15        & 0.9669903 & 0.9969697 & 0.9156969 & 0.9299374\\\\\n",
       "\t 17        & 0.9669903 & 0.9939394 & 0.9212525 & 0.9298599\\\\\n",
       "\\end{tabular}\n"
      ],
      "text/markdown": [
       "\n",
       "| K | Overall Accuracy | Positive Accuracy | Negative Accuracy | MCC |\n",
       "|---|---|---|---|---|\n",
       "|  1        | 0.9533981 | 0.9636580 | 0.9363905 | 0.9010002 |\n",
       "|  3        | 0.9631068 | 0.9819539 | 0.9314277 | 0.9207649 |\n",
       "|  5        | 0.9631068 | 0.9819539 | 0.9314277 | 0.9207649 |\n",
       "|  7        | 0.9669903 | 0.9849389 | 0.9369753 | 0.9296568 |\n",
       "|  9        | 0.9650485 | 0.9879692 | 0.9260144 | 0.9250973 |\n",
       "| 11        | 0.9592233 | 0.9848937 | 0.9156969 | 0.9132436 |\n",
       "| 13        | 0.9650485 | 0.9909091 | 0.9209601 | 0.9255295 |\n",
       "| 15        | 0.9669903 | 0.9969697 | 0.9156969 | 0.9299374 |\n",
       "| 17        | 0.9669903 | 0.9939394 | 0.9212525 | 0.9298599 |\n",
       "\n"
      ],
      "text/plain": [
       "      K  Overall Accuracy Positive Accuracy Negative Accuracy MCC      \n",
       " [1,]  1 0.9533981        0.9636580         0.9363905         0.9010002\n",
       " [2,]  3 0.9631068        0.9819539         0.9314277         0.9207649\n",
       " [3,]  5 0.9631068        0.9819539         0.9314277         0.9207649\n",
       " [4,]  7 0.9669903        0.9849389         0.9369753         0.9296568\n",
       " [5,]  9 0.9650485        0.9879692         0.9260144         0.9250973\n",
       " [6,] 11 0.9592233        0.9848937         0.9156969         0.9132436\n",
       " [7,] 13 0.9650485        0.9909091         0.9209601         0.9255295\n",
       " [8,] 15 0.9669903        0.9969697         0.9156969         0.9299374\n",
       " [9,] 17 0.9669903        0.9939394         0.9212525         0.9298599"
      ]
     },
     "metadata": {},
     "output_type": "display_data"
    }
   ],
   "source": [
    "mat"
   ]
  },
  {
   "cell_type": "code",
   "execution_count": 30,
   "metadata": {},
   "outputs": [],
   "source": [
    "# Using MCC as performance metrics\n",
    "best_K = mat[which.max(mat[,'MCC']),'K']"
   ]
  },
  {
   "cell_type": "code",
   "execution_count": 31,
   "metadata": {},
   "outputs": [],
   "source": [
    "# Using the best_K found above to predict for test data\n",
    "st = Sys.time()\n",
    "y_pred = knn(train, x_test, best_K)\n",
    "ed = Sys.time()"
   ]
  },
  {
   "cell_type": "code",
   "execution_count": 36,
   "metadata": {},
   "outputs": [],
   "source": [
    "Performance = CalcAccus(y_pred,y_test)"
   ]
  },
  {
   "cell_type": "code",
   "execution_count": 38,
   "metadata": {},
   "outputs": [
    {
     "name": "stdout",
     "output_type": "stream",
     "text": [
      "[1] \"K =  Overall Accuracy = 0.981481481481482 Positive Accuracy = 1 Negative Accuracy = 0.956521739130435 MCC = 0.962616452582548\"\n"
     ]
    }
   ],
   "source": [
    "print(paste(\"K =\",Performance[0],\"Overall Accuracy =\",Performance[1], \n",
    "            \"Positive Accuracy =\",Performance[2], \n",
    "            \"Negative Accuracy =\",Performance[3], \"MCC =\",Performance[4]))"
   ]
  }
 ],
 "metadata": {
  "kernelspec": {
   "display_name": "R",
   "language": "R",
   "name": "ir"
  },
  "language_info": {
   "codemirror_mode": "r",
   "file_extension": ".r",
   "mimetype": "text/x-r-source",
   "name": "R",
   "pygments_lexer": "r",
   "version": "3.6.1"
  }
 },
 "nbformat": 4,
 "nbformat_minor": 2
}
