{
 "cells": [
  {
   "cell_type": "markdown",
   "metadata": {},
   "source": [
    "# K Nearest Neighbours"
   ]
  },
  {
   "cell_type": "code",
   "execution_count": 2,
   "metadata": {},
   "outputs": [],
   "source": [
    "# Function for distance between attribute vectors and mode\n",
    "dist <- function(v1, v2){\n",
    "  return(sqrt(sum((v1-v2)^2)))\n",
    "}\n",
    "mode <- function(lab,dist){\n",
    "  return(names(which.max(table(lab))))\n",
    "}"
   ]
  },
  {
   "cell_type": "code",
   "execution_count": 3,
   "metadata": {},
   "outputs": [],
   "source": [
    "# function to calculate overall, positive, negative, accuracy and MCC\n",
    "CalcAccus <- function(pred, true, k){\n",
    "    tab = table(true, pred)\n",
    "    TP = tab[1,1]\n",
    "    FP = tab[2,1]\n",
    "    FN = tab[1,2]\n",
    "    TN = tab[2,2]\n",
    "    \n",
    "    accu_o = (TP+TN)/(TP+TN+FP+FN)\n",
    "    accu_P = TP/(TP+FN)\n",
    "    accu_N = TN/(TN+FP)\n",
    "    MCC    = (TP*TN - FP*FN)/sqrt((TP+FP)*(TP+FN)*(TN+FP)*(TN+FN))\n",
    "    \n",
    "    x <- data.frame(\"k\" = k, \"overall\" = accu_o, \"positive\" = accu_P, \"negative\" = accu_N, \"MCC\" = MCC)     \n",
    "    return(x)\n",
    "}"
   ]
  },
  {
   "cell_type": "markdown",
   "metadata": {},
   "source": [
    "### Function for KNN\n",
    "#### Input\n",
    "- data: input data in form of data frame with labels in last col  \n",
    "- obj: input objects {set of attributes} for which predictions are to be made;also a data frame with one or more rows with attributes  \n",
    "- k: algorithm parameter \n",
    "\n",
    "#### Output\n",
    "- List to predicted labels"
   ]
  },
  {
   "cell_type": "code",
   "execution_count": 4,
   "metadata": {},
   "outputs": [],
   "source": [
    "knn <- function(data, obj, k){\n",
    "    x_data = data[ ,-length(data)]\n",
    "    y_data = data[ ,length(data)]\n",
    "    label = c()\n",
    "    for(each in 1:nrow(obj)){\n",
    "        distance = c()\n",
    "        for(row in 1:nrow(data)){\n",
    "            distance[row] = dist(x_data[row,], obj[each,])\n",
    "        }\n",
    "        sort_order = order(distance)\n",
    "        sorted_label = y_data[sort_order][1:k]\n",
    "        sorted_distance = distance[sort_order][1:k]\n",
    "        label[each] = mode(sorted_label,sorted_distance)        \n",
    "    }\n",
    "    return(label)\n",
    "}"
   ]
  },
  {
   "cell_type": "code",
   "execution_count": 5,
   "metadata": {},
   "outputs": [],
   "source": [
    "# data pre-prosessing - reading data, removing unnecessary cols, moving labels to last col\n",
    "data <- read.csv(\"data.csv\", na.strings = c('',\"NA\"))\n",
    "data = data[,c(-1,-ncol(data))]\n",
    "data = data[,c(2:ncol(data),1)]"
   ]
  },
  {
   "cell_type": "code",
   "execution_count": 6,
   "metadata": {},
   "outputs": [],
   "source": [
    "# shuffling the data points and spliting in test and train data at random\n",
    "shuf  = sample(2, nrow(data), replace = T, prob = c(0.8,0.2))\n",
    "train = data[which(shuf == 1), ]\n",
    "test  = data[which(shuf != 1), ]\n",
    "\n",
    "x_test = test[ ,-length(train)]\n",
    "y_test = test[ ,length(train)]"
   ]
  },
  {
   "cell_type": "code",
   "execution_count": 7,
   "metadata": {},
   "outputs": [],
   "source": [
    "# loop to findout the performance matrix for different K values\n",
    "k_set = seq(1,3,2)\n",
    "k_accus = data.frame()\n",
    "for(k in k_set){\n",
    "    y_pred = knn(train, x_test, k)\n",
    "    accus  = CalcAccus(y_pred, y_test, k)\n",
    "    k_accus = rbind.data.frame(k_accus, accus)\n",
    "}"
   ]
  },
  {
   "cell_type": "code",
   "execution_count": 8,
   "metadata": {},
   "outputs": [
    {
     "data": {
      "text/html": [
       "<table>\n",
       "<thead><tr><th scope=col>k</th><th scope=col>overall</th><th scope=col>positive</th><th scope=col>negative</th><th scope=col>MCC</th></tr></thead>\n",
       "<tbody>\n",
       "\t<tr><td>1        </td><td>0.9191919</td><td>0.9491525</td><td>0.875    </td><td>0.8315855</td></tr>\n",
       "\t<tr><td>3        </td><td>0.9292929</td><td>0.9830508</td><td>0.850    </td><td>0.8550736</td></tr>\n",
       "</tbody>\n",
       "</table>\n"
      ],
      "text/latex": [
       "\\begin{tabular}{r|lllll}\n",
       " k & overall & positive & negative & MCC\\\\\n",
       "\\hline\n",
       "\t 1         & 0.9191919 & 0.9491525 & 0.875     & 0.8315855\\\\\n",
       "\t 3         & 0.9292929 & 0.9830508 & 0.850     & 0.8550736\\\\\n",
       "\\end{tabular}\n"
      ],
      "text/markdown": [
       "\n",
       "| k | overall | positive | negative | MCC |\n",
       "|---|---|---|---|---|\n",
       "| 1         | 0.9191919 | 0.9491525 | 0.875     | 0.8315855 |\n",
       "| 3         | 0.9292929 | 0.9830508 | 0.850     | 0.8550736 |\n",
       "\n"
      ],
      "text/plain": [
       "  k overall   positive  negative MCC      \n",
       "1 1 0.9191919 0.9491525 0.875    0.8315855\n",
       "2 3 0.9292929 0.9830508 0.850    0.8550736"
      ]
     },
     "metadata": {},
     "output_type": "display_data"
    }
   ],
   "source": [
    "k_accus"
   ]
  },
  {
   "cell_type": "code",
   "execution_count": 9,
   "metadata": {},
   "outputs": [
    {
     "data": {
      "text/plain": [
       "      y_pred\n",
       "y_test  B  M\n",
       "     B 58  1\n",
       "     M  6 34"
      ]
     },
     "metadata": {},
     "output_type": "display_data"
    }
   ],
   "source": [
    "table(y_test, y_pred)"
   ]
  },
  {
   "cell_type": "code",
   "execution_count": null,
   "metadata": {},
   "outputs": [],
   "source": []
  }
 ],
 "metadata": {
  "kernelspec": {
   "display_name": "R",
   "language": "R",
   "name": "ir"
  },
  "language_info": {
   "codemirror_mode": "r",
   "file_extension": ".r",
   "mimetype": "text/x-r-source",
   "name": "R",
   "pygments_lexer": "r",
   "version": "3.6.1"
  }
 },
 "nbformat": 4,
 "nbformat_minor": 2
}
