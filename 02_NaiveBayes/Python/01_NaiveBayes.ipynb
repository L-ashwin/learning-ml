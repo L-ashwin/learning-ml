{
 "cells": [
  {
   "cell_type": "code",
   "execution_count": 1,
   "metadata": {},
   "outputs": [],
   "source": [
    "import numpy as np\n",
    "import pandas as pd\n",
    "import matplotlib.pyplot as plt"
   ]
  },
  {
   "cell_type": "code",
   "execution_count": 2,
   "metadata": {},
   "outputs": [],
   "source": [
    "class Normal(object):\n",
    "    def __init__(self, mean = None, var = None):\n",
    "        \"\"\"\n",
    "        mean and varience which are parameters of Normal Distribution, \n",
    "        are the attributes for this class.\n",
    "        \"\"\"\n",
    "        self.mean = mean\n",
    "        self.var  = var\n",
    "        \n",
    "    def pdf(self, x):\n",
    "        \"\"\"\n",
    "        Function takes real number x as input and returns probability density \n",
    "        value curresponding to it.\n",
    "        If distribution parameters are not defiend it will raise an error\n",
    "        \"\"\"\n",
    "        if self.mean is None or self.var is None:\n",
    "            raise Exception('Distribution Parameters are not set')\n",
    "        \n",
    "        sigma = np.sqrt(self.var)\n",
    "        mu  = self.mean\n",
    "        \n",
    "        f = 1/(sigma * np.sqrt(2 * np.pi)) * np.exp(-1/2 * ((x - mu) / sigma)**2)\n",
    "        return f\n",
    "    \n",
    "    def fit(self, X):\n",
    "        \"\"\"\n",
    "        Function takes array of realisations of random variable and sets values \n",
    "        of distribution parameters by their estimates based on data\n",
    "        \"\"\"\n",
    "        self.mean = np.mean(X)\n",
    "        self.var  = np.var(X)\n",
    "    \n",
    "    def plot(self):\n",
    "        \"\"\"\n",
    "        Function Plots the density function\n",
    "        If distribution parameters are not defiend it will raise an error\n",
    "        \"\"\"      \n",
    "        if self.mean is None or self.var is None:\n",
    "            raise Exception('Distribution Parameters are not set')\n",
    "            \n",
    "        sigma = np.sqrt(self.var)\n",
    "        mu  = self.mean\n",
    "        \n",
    "        x = np.linspace( (mu - 3*sigma) , (mu + 3*sigma), 100)\n",
    "        y = self.pdf(x)\n",
    "        \n",
    "        plt.plot(x,y)\n",
    "        plt.show()\n",
    "        \n",
    "    def __str__(self):\n",
    "        if self.mean is None or self.var is None:\n",
    "            return 'Distribution Parameters are not set'\n",
    "        else:\n",
    "            return \"Normal distribution with mean \" + str('{:.2e}'.format(self.mean)) + \" and varience \" + str('{:.2e}'.format(self.var))"
   ]
  },
  {
   "cell_type": "code",
   "execution_count": 3,
   "metadata": {},
   "outputs": [],
   "source": [
    "class NaiveBayes(object):\n",
    "    def __init__(self):\n",
    "        \"\"\"\n",
    "        self.categories - list of output categories\n",
    "        self.attributes - list of attributes\n",
    "        self.condP - dataframe, which contains the conditional probability distribution \n",
    "                     for each attribute with each category\n",
    "                     condP.loc[attribute,category] = P(attribute|category)\n",
    "        self.catgP - dictionary of probability of each category\n",
    "        \"\"\"\n",
    "        self.categories = None\n",
    "        self.attributes = None\n",
    "        self.condP = None\n",
    "        self.catgP = None\n",
    "\n",
    "    def fit(self, X, Y, dist):\n",
    "        \"\"\"\n",
    "        Input:\n",
    "        X - Pandas dataframe where each row is set of attributes for an example.\n",
    "        Y - Pandas series with labels curresponding to X\n",
    "        dist - distribution class\n",
    "        \n",
    "        With given inputes this function fills the attributes of the NaiveBayes class\n",
    "        \"\"\"\n",
    "\n",
    "        self.categories = list(np.unique(Y))\n",
    "        self.attributes = list(X.columns)\n",
    "        \n",
    "        att, cat = len(self.attributes), len(self.categories)\n",
    "        \n",
    "        # dataframe with probability distribution of each attribute given a category\n",
    "        condP = pd.DataFrame(np.zeros((att, cat)), columns = self.categories, index = self.attributes)\n",
    "        for attribute in self.attributes:\n",
    "            for category in self.categories:\n",
    "                # data vector of specific attribute curresponding to specific category\n",
    "                dataVec = X.loc[Y == category, attribute]\n",
    "                \n",
    "                # Creating an instance of distribution and fitting with estimates of parameters\n",
    "                condP.loc[attribute,category] = dist()\n",
    "                condP.loc[attribute,category].fit(dataVec)\n",
    "                \n",
    "        self.condP = condP\n",
    "        \n",
    "        # dictionary with probability for each category\n",
    "        catgP = {}\n",
    "        for category in self.categories:\n",
    "            catgP[category] = sum(Y == category)/len(Y)\n",
    "        self.catgP = catgP\n",
    "    \n",
    "    def model(self, X):\n",
    "        \"\"\"\n",
    "        Input:\n",
    "        X - pandas series with set of attributes\n",
    "        Output:\n",
    "        function returns predicted label based on given set of attributes\n",
    "        \"\"\"\n",
    "        # Dictionary with predicted probability of each class given set of attributes\n",
    "        predProb = {}\n",
    "        for category in self.categories:\n",
    "            # probability of each category\n",
    "            catgP = self.catgP[category]\n",
    "            predProb[category] = np.log10(catgP)\n",
    "            for attribute in self.attributes:\n",
    "                # probability density value of each attribute, given the category\n",
    "                pdf = self.condP.loc[attribute,category].pdf(X[attribute]) \n",
    "                predProb[category] = predProb[category] + np.log10(pdf)\n",
    "                \n",
    "        return max(predProb, key = predProb.get)\n",
    "    \n",
    "    def predict(self, Xlist):\n",
    "        row, col = Xlist.shape\n",
    "        pred = []\n",
    "        for each in range(row):\n",
    "            pred.append(self.model(Xlist.iloc[each,]))\n",
    "        return pred"
   ]
  },
  {
   "cell_type": "code",
   "execution_count": 4,
   "metadata": {},
   "outputs": [],
   "source": [
    "df = pd.read_csv('iris.csv')\n",
    "df = df.sample(frac = 1) "
   ]
  },
  {
   "cell_type": "code",
   "execution_count": 5,
   "metadata": {},
   "outputs": [],
   "source": [
    "row, col = df.shape\n",
    "frac  = row//5\n",
    "train = df.iloc[frac:,]\n",
    "test  = df.iloc[:frac,]"
   ]
  },
  {
   "cell_type": "code",
   "execution_count": 6,
   "metadata": {},
   "outputs": [],
   "source": [
    "X_train = train.iloc[:,range(col-1)]\n",
    "Y_train = train.iloc[:,col-1]\n",
    "X_test  = test.iloc[:,range(col-1)]\n",
    "Y_test  = test.iloc[:,col-1]"
   ]
  },
  {
   "cell_type": "code",
   "execution_count": 7,
   "metadata": {},
   "outputs": [],
   "source": [
    "# Creating an instance of the NaiveBayes class\n",
    "NB = NaiveBayes()\n",
    "\n",
    "# Generating model based on data with Normal distribution assumption\n",
    "NB.fit(X_train,Y_train,Normal)"
   ]
  },
  {
   "cell_type": "code",
   "execution_count": 8,
   "metadata": {},
   "outputs": [
    {
     "name": "stdout",
     "output_type": "stream",
     "text": [
      "Accuracy of prediction is  93.33 %\n"
     ]
    }
   ],
   "source": [
    "# Prediction using NaiveBayes\n",
    "Y_pred = NB.predict(X_test)\n",
    "\n",
    "# Calculating accuracy\n",
    "Accuracy = sum(Y_pred == Y_test)/len(Y_test)\n",
    "print('Accuracy of prediction is ', round(Accuracy*100,2),'%' )"
   ]
  }
 ],
 "metadata": {
  "kernelspec": {
   "display_name": "Python 3",
   "language": "python",
   "name": "python3"
  },
  "language_info": {
   "codemirror_mode": {
    "name": "ipython",
    "version": 3
   },
   "file_extension": ".py",
   "mimetype": "text/x-python",
   "name": "python",
   "nbconvert_exporter": "python",
   "pygments_lexer": "ipython3",
   "version": "3.7.6"
  }
 },
 "nbformat": 4,
 "nbformat_minor": 2
}
