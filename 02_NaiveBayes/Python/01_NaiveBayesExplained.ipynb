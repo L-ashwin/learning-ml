{
 "cells": [
  {
   "cell_type": "code",
   "execution_count": 1,
   "metadata": {},
   "outputs": [],
   "source": [
    "import numpy as np\n",
    "import pandas as pd\n",
    "import matplotlib.pyplot as plt"
   ]
  },
  {
   "cell_type": "markdown",
   "metadata": {},
   "source": [
    "## Normal Distribution\n",
    "It's a univariate probability distribution for continous real random variable.  \n",
    "mean $\\mu$ and standard deviation $\\sigma$ are the distribution paramters. \n",
    "Probability density function is given by,  \n",
    "\n",
    "$$ f(x) = \\frac{1}{\\sigma \\sqrt{2\\pi}} \\exp{-\\frac{1}{2}\\left[\\frac{x - \\mu}{\\sigma}\\right]^2}$$"
   ]
  },
  {
   "cell_type": "code",
   "execution_count": 2,
   "metadata": {},
   "outputs": [],
   "source": [
    "class Normal(object):\n",
    "    def __init__(self, mean = None, var = None):\n",
    "        \"\"\"\n",
    "        mean and varience which are parameters of Normal Distribution, \n",
    "        are the attributes for this class. If specified while initialisation \n",
    "        class is initialised with those values otherwise with None\n",
    "        \"\"\"\n",
    "        self.mean = mean\n",
    "        self.var  = var\n",
    "        \n",
    "    def pdf(self, x):\n",
    "        \"\"\"\n",
    "        Function takes real number x as input and returns probability density \n",
    "        value curresponding to it.\n",
    "        if distribution parameters are not defiend it will raise an error\n",
    "        \"\"\"\n",
    "        if self.mean is None or self.var is None:\n",
    "            raise Exception('Distribution Parameters are not set')\n",
    "        \n",
    "        sigma = np.sqrt(self.var)\n",
    "        mu  = self.mean\n",
    "        f = 1/(sigma * np.sqrt(2 * np.pi)) * np.exp(-1/2 * ((x - mu) / sigma)**2)\n",
    "        return f\n",
    "    \n",
    "    def logLH(self, x):\n",
    "        \"\"\"\n",
    "        Function takes real number x as input and returns log of probability \n",
    "        density value curresponding to it.\n",
    "        if distribution parameters are not defiend it will raise an error\n",
    "        \"\"\"\n",
    "        if self.mean is None or self.var is None:\n",
    "            raise Exception('Distribution Parameters are not set')\n",
    "        \n",
    "        return np.log10(self.pdf(x))\n",
    "    \n",
    "    def fit(self, X):\n",
    "        \"\"\"\n",
    "        Function takes array of realisations of random variable and \n",
    "        sets values of distribution parameters by their estimates \n",
    "        based on data\n",
    "        \"\"\"\n",
    "        self.mean = np.mean(X)\n",
    "        self.var  = np.var(X)\n",
    "    \n",
    "    def plot(self):\n",
    "        \"\"\"\n",
    "        Function Plots the density function\n",
    "        if distribution parameters are not defiend it will raise an error\n",
    "        \"\"\"      \n",
    "        if self.mean is None or self.var is None:\n",
    "            raise Exception('Distribution Parameters are not set')\n",
    "        sigma = np.sqrt(self.var)\n",
    "        mu  = self.mean\n",
    "        x = np.linspace( (mu - 3*sigma) , (mu + 3*sigma), 100)\n",
    "        y = self.pdf(x)\n",
    "        plt.plot(x,y)\n",
    "        plt.show()\n",
    "        \n",
    "    def __str__(self):\n",
    "        if self.mean is None or self.var is None:\n",
    "            return 'Distribution Parameters are not set'\n",
    "        else:\n",
    "            return \"Normal distribution with mean \" + str('{:.2e}'.format(self.mean)) + \" and varience \" + str('{:.2e}'.format(self.var))"
   ]
  },
  {
   "cell_type": "markdown",
   "metadata": {},
   "source": [
    "### Understanding the class"
   ]
  },
  {
   "cell_type": "code",
   "execution_count": 3,
   "metadata": {},
   "outputs": [
    {
     "name": "stdout",
     "output_type": "stream",
     "text": [
      "Normal distribution with mean 0.00e+00 and varience 1.00e+00\n"
     ]
    }
   ],
   "source": [
    "# Initialising class with parameters\n",
    "dist = Normal(mean = 0, var = 1)\n",
    "print(dist)"
   ]
  },
  {
   "cell_type": "code",
   "execution_count": 4,
   "metadata": {},
   "outputs": [
    {
     "name": "stdout",
     "output_type": "stream",
     "text": [
      "Probability density value at  0.5  is  0.3520653267642995\n"
     ]
    }
   ],
   "source": [
    "# Probability density value \n",
    "x = 0.5\n",
    "fx = dist.pdf(x)\n",
    "print('Probability density value at ', x,' is ', fx)"
   ]
  },
  {
   "cell_type": "code",
   "execution_count": 5,
   "metadata": {},
   "outputs": [
    {
     "data": {
      "image/png": "[encoded data removed]",
      "text/plain": [
       "<Figure size 432x288 with 1 Axes>"
      ]
     },
     "metadata": {
      "needs_background": "light"
     },
     "output_type": "display_data"
    }
   ],
   "source": [
    "dist.plot()"
   ]
  },
  {
   "cell_type": "code",
   "execution_count": 6,
   "metadata": {},
   "outputs": [
    {
     "name": "stdout",
     "output_type": "stream",
     "text": [
      "Distribution Parameters are not set\n"
     ]
    }
   ],
   "source": [
    "# Initialising class without parameters\n",
    "distribution = Normal()\n",
    "print(distribution)"
   ]
  },
  {
   "cell_type": "code",
   "execution_count": 7,
   "metadata": {},
   "outputs": [
    {
     "name": "stdout",
     "output_type": "stream",
     "text": [
      "Normal distribution with mean -1.94e-02 and varience 9.94e-01\n"
     ]
    }
   ],
   "source": [
    "# Fitting Probability density function paramters from data \n",
    "X = np.random.normal(0, 1, 1000)\n",
    "distribution.fit(X)\n",
    "print(distribution)"
   ]
  },
  {
   "cell_type": "code",
   "execution_count": 8,
   "metadata": {},
   "outputs": [
    {
     "data": {
      "image/png": "[encoded data removed]",
      "text/plain": [
       "<Figure size 432x288 with 1 Axes>"
      ]
     },
     "metadata": {
      "needs_background": "light"
     },
     "output_type": "display_data"
    }
   ],
   "source": [
    "distribution.plot()"
   ]
  },
  {
   "cell_type": "markdown",
   "metadata": {},
   "source": [
    "## Naive Bayes\n",
    "Baye's theorem for even A and B is given by,  \n",
    "$$ P(B|A) = \\frac{P(A|B)P(B)}{P(A)} $$  \n",
    "\n",
    "For classification problem we want label $y$ based on values of set of attributes $X = \\{x_1, x_2,..., x_n\\}$. above formula can be written as,  \n",
    "$$ P(y|\\{x_1, x_2,..., x_n\\}) = \\frac{P(\\{x_1, x_2,..., x_n\\}|y)P(y)}{P(\\{x_1, x_2,..., x_n\\})} $$   \n",
    "\n",
    "Assuming atributes are independant, \n",
    "$$ P(y|\\{x_1, x_2,..., x_n\\}) = \\frac{P(x_1|y).P(x_2|y)...P(x_n|y)P(y)}{P(\\{x_1, x_2,..., x_n\\})} $$  \n",
    "\n",
    "Probability of y taking specific value $y_1$ for given set of attributes $X = \\{x_1, x_2,..., x_n\\}$ is given by,  \n",
    "\n",
    "$$ P(y=y_1|\\{x_1, x_2,..., x_n\\}) = \\frac{P(y=y_1)P(x_1|y=y_1).P(x_2|y=y_1)...P(x_n|y=y_1)}{P(\\{x_1, x_2,..., x_n\\})} $$ \n",
    "\n",
    "Similarly, Probability for each possible value of y can be computed and compared to make prediction.  \n",
    "As denominator is independant of value of y, it can be ignored. we get following equation. \n",
    "\n",
    "$$ P(y=y_1|\\{x_1, x_2,..., x_n\\}) \\propto P(y=y_1) \\prod_{i = 1}^{n}{P(x_i|y=y_1)} $$ \n",
    "\n",
    "Prediction can be written as,\n",
    "\n",
    "$$ \\hat{y} = argmax_y \\left[P(y=y_1) \\prod_{i = 1}^{n}{P(x_i|y=y_1)}\\right] $$"
   ]
  },
  {
   "cell_type": "code",
   "execution_count": 9,
   "metadata": {},
   "outputs": [],
   "source": [
    "class NaiveBayes(object):\n",
    "    def __init__(self):\n",
    "        \"\"\"\n",
    "        self.categories - list of output categories / labels\n",
    "        self.attributes - list of attributes\n",
    "        self.condP - conditional probability dataframe, which contains the distributions \n",
    "                     for each attribute given each category\n",
    "        self.catgP - dictionary of probability of each category / label\n",
    "        \"\"\"\n",
    "        self.categories = None\n",
    "        self.attributes = None\n",
    "        self.condP = None\n",
    "        self.catgP = None\n",
    "\n",
    "    def fit(self, X, Y, dist):\n",
    "        \"\"\"\n",
    "        Input:\n",
    "        X - Pandas dataframe where each column gives different attribute values\n",
    "        Y - Pandas series with labels curresponding to X\n",
    "        dist - distribution class\n",
    "        \n",
    "        With given inputes this function fills the attributes of the NaiveBayes class\n",
    "        \"\"\"\n",
    "\n",
    "        self.categories = list(np.unique(Y))\n",
    "        self.attributes = list(X.columns)\n",
    "        \n",
    "        att, cat = len(self.attributes), len(self.categories)\n",
    "        \n",
    "        condP = pd.DataFrame(np.zeros((att, cat)), columns = self.categories, index = self.attributes)\n",
    "        for attribute in self.attributes:\n",
    "            for categorie in self.categories:\n",
    "                condP.loc[attribute,categorie] = dist()\n",
    "                condP.loc[attribute,categorie].fit(X.loc[Y == categorie, attribute])\n",
    "        self.condP = condP\n",
    "        \n",
    "        catgP = {}\n",
    "        for categorie in self.categories:\n",
    "            catgP[categorie] = sum(Y == categorie)/len(Y)\n",
    "        self.catgP = catgP\n",
    "    \n",
    "    def model(self, X):\n",
    "        \"\"\"\n",
    "        Input:\n",
    "        X - pandas series with set of attributes\n",
    "        Output:\n",
    "        function returns predicted label based on given set of attributes\n",
    "        \"\"\"\n",
    "        predProb = {}\n",
    "        for categorie in self.categories:\n",
    "            predProb[categorie] = 0\n",
    "            for attribute in self.attributes:\n",
    "                predProb[categorie] = predProb[categorie] + self.condP.loc[attribute,categorie].logLH(X[attribute]) + np.log10(self.catgP[categorie])\n",
    "        return max(predProb, key = predProb.get)\n",
    "    \n",
    "    def predict(self, X):\n",
    "        row, col = X.shape\n",
    "        pred = []\n",
    "        for each in range(row):\n",
    "            pred.append(self.model(X.iloc[each,]))\n",
    "        return pred"
   ]
  },
  {
   "cell_type": "code",
   "execution_count": 10,
   "metadata": {},
   "outputs": [],
   "source": [
    "df = pd.read_csv('iris.csv')\n",
    "df = df.sample(frac = 1) "
   ]
  },
  {
   "cell_type": "code",
   "execution_count": 11,
   "metadata": {},
   "outputs": [],
   "source": [
    "row, col = df.shape\n",
    "frac  = row//5\n",
    "train = df.iloc[frac:,]\n",
    "test  = df.iloc[:frac,]"
   ]
  },
  {
   "cell_type": "code",
   "execution_count": 12,
   "metadata": {},
   "outputs": [],
   "source": [
    "X_train = train.iloc[:,range(col-1)]\n",
    "Y_train = train.iloc[:,col-1]\n",
    "X_test  = test.iloc[:,range(col-1)]\n",
    "Y_test  = test.iloc[:,col-1]"
   ]
  },
  {
   "cell_type": "code",
   "execution_count": 13,
   "metadata": {},
   "outputs": [],
   "source": [
    "# Creating an instance of the NaiveBayes class\n",
    "NB = NaiveBayes()\n",
    "\n",
    "# Generating model based on data with Normal distribution assumption\n",
    "NB.fit(X_train,Y_train,Normal)"
   ]
  },
  {
   "cell_type": "code",
   "execution_count": 14,
   "metadata": {},
   "outputs": [
    {
     "name": "stdout",
     "output_type": "stream",
     "text": [
      "Accuracy of prediction is  96.67 %\n"
     ]
    }
   ],
   "source": [
    "# Prediction using NaiveBayes\n",
    "Y_pred = NB.predict(X_test)\n",
    "\n",
    "# Calculating accuracy\n",
    "Accuracy = sum(Y_pred == Y_test)/len(Y_test)\n",
    "print('Accuracy of prediction is ', round(Accuracy*100,2),'%' )"
   ]
  }
 ],
 "metadata": {
  "kernelspec": {
   "display_name": "Python 3",
   "language": "python",
   "name": "python3"
  },
  "language_info": {
   "codemirror_mode": {
    "name": "ipython",
    "version": 3
   },
   "file_extension": ".py",
   "mimetype": "text/x-python",
   "name": "python",
   "nbconvert_exporter": "python",
   "pygments_lexer": "ipython3",
   "version": "3.7.4"
  }
 },
 "nbformat": 4,
 "nbformat_minor": 2
}
