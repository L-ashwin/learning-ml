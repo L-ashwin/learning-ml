{
 "cells": [
  {
   "cell_type": "code",
   "execution_count": 1,
   "metadata": {},
   "outputs": [],
   "source": [
    "import numpy as np\n",
    "import pandas as pd\n",
    "import matplotlib.pyplot as plt"
   ]
  },
  {
   "cell_type": "code",
   "execution_count": 2,
   "metadata": {},
   "outputs": [],
   "source": [
    "class Gaussian(object):\n",
    "    def __init__(self):\n",
    "        self.mean = None\n",
    "        self.var  = None\n",
    "    \n",
    "    def fit(self, df):\n",
    "        \"\"\"\n",
    "        Input\n",
    "        df: Pandas DataFrame where each row is random variable vector.\n",
    "        Output\n",
    "        Sets values of distribution parameters by their estimates.\n",
    "        \"\"\"\n",
    "        # axis = 0 imples first dimension i.e. rows give different examples.\n",
    "        self.mean = np.array(np.mean(df, axis = 0))\n",
    "        self.var  = np.diag(np.var(df, axis = 0))\n",
    "        \n",
    "    def pdf(self, X):\n",
    "        \"\"\"\n",
    "        Function takes attribute vector X as input and returns \n",
    "        probability density value curresponding to it.\n",
    "        If distribution parameters are not defiend it will raise an error\n",
    "        \"\"\"\n",
    "        if self.mean is None or self.var is None:\n",
    "            raise Exception('Distribution Parameters are not set')\n",
    "        \n",
    "        mu = self.mean\n",
    "        sigma = self.var\n",
    "        \n",
    "        sigmaDet = np.linalg.det(sigma)\n",
    "        sigmaInv = np.linalg.inv(sigma)\n",
    "        \n",
    "        t1 = 1/np.sqrt(2 * np.pi * sigmaDet)\n",
    "        t2 = (-1/2) * np.matmul((X - mu), np.matmul(sigmaInv, (X - mu)))\n",
    "        \n",
    "        f = t1 * np.exp(t2)\n",
    "        return f\n",
    "    \n",
    "    def logLH(self, X):\n",
    "        \"\"\"\n",
    "        Function takes attribute vector X as input and returns \n",
    "        log of probability density value curresponding to it.\n",
    "        If distribution parameters are not defiend it will raise an error\n",
    "        \"\"\"        \n",
    "        if self.mean is None or self.var is None:\n",
    "            raise Exception('Distribution Parameters are not set')\n",
    "        \n",
    "        return np.log10(self.pdf(X))"
   ]
  },
  {
   "cell_type": "code",
   "execution_count": 3,
   "metadata": {},
   "outputs": [],
   "source": [
    "class NaiveBayes(object):\n",
    "    def __init__(self):\n",
    "        \"\"\"\n",
    "        self.categories - list of output categories / labels\n",
    "        self.attributes - list of attributes\n",
    "        self.condP - conditional probability dataframe, which contains the distributions \n",
    "                     for each attribute given each category\n",
    "        self.catgP - dictionary of probability of each category / label\n",
    "        \"\"\"\n",
    "        self.categories = None\n",
    "        self.attributes = None\n",
    "        self.condP = None\n",
    "        self.catgP = None\n",
    "\n",
    "    def fit(self, X, Y, dist):\n",
    "        \"\"\"\n",
    "        Input:\n",
    "        X - Pandas dataframe where each row is attribute vector for a example\n",
    "        Y - Pandas series with labels curresponding to X\n",
    "        dist - distribution class\n",
    "        \n",
    "        With given inputes this function fills the attributes of the NaiveBayes class\n",
    "        \"\"\"\n",
    "\n",
    "        self.categories = list(np.unique(Y))\n",
    "        self.attributes = list(X.columns)\n",
    "        \n",
    "        condP = {}\n",
    "        for categorie in self.categories:\n",
    "            condP[categorie] = dist()\n",
    "            condP[categorie].fit(X.loc[Y == categorie,])\n",
    "        self.condP = condP\n",
    "        \n",
    "        catgP = {}\n",
    "        for categorie in self.categories:\n",
    "            catgP[categorie] = sum(Y == categorie)/len(Y)\n",
    "        self.catgP = catgP\n",
    "    \n",
    "    def model(self, X):\n",
    "        \"\"\"\n",
    "        Input:\n",
    "        X - pandas series with set of attributes\n",
    "        Output:\n",
    "        function returns predicted label based on given set of attributes\n",
    "        \"\"\"\n",
    "        predProb = {}\n",
    "        for categorie in self.categories:\n",
    "            predProb[categorie] = np.log10(self.catgP[categorie]) + self.condP[categorie].logLH(X)\n",
    "            \n",
    "        return max(predProb, key = predProb.get)\n",
    "    \n",
    "    def predict(self, Xlist):\n",
    "        row, col = Xlist.shape\n",
    "        pred = []\n",
    "        for each in range(row):\n",
    "            pred.append(self.model(Xlist.iloc[each,]))\n",
    "        return pred"
   ]
  },
  {
   "cell_type": "code",
   "execution_count": 4,
   "metadata": {},
   "outputs": [],
   "source": [
    "df = pd.read_csv('iris.csv')\n",
    "df = df.sample(frac = 1) "
   ]
  },
  {
   "cell_type": "code",
   "execution_count": 5,
   "metadata": {},
   "outputs": [],
   "source": [
    "row, col = df.shape\n",
    "frac  = row//5\n",
    "train = df.iloc[frac:,]\n",
    "test  = df.iloc[:frac,]"
   ]
  },
  {
   "cell_type": "code",
   "execution_count": 6,
   "metadata": {},
   "outputs": [],
   "source": [
    "X_train = train.iloc[:,range(col-1)]\n",
    "Y_train = train.iloc[:,col-1]\n",
    "X_test  = test.iloc[:,range(col-1)]\n",
    "Y_test  = test.iloc[:,col-1]"
   ]
  },
  {
   "cell_type": "code",
   "execution_count": 7,
   "metadata": {},
   "outputs": [],
   "source": [
    "# Creating an instance of the NaiveBayes class\n",
    "NB = NaiveBayes()\n",
    "\n",
    "# Generating model based on data with Normal distribution assumption\n",
    "NB.fit(X_train,Y_train,Gaussian)"
   ]
  },
  {
   "cell_type": "code",
   "execution_count": 8,
   "metadata": {},
   "outputs": [
    {
     "name": "stdout",
     "output_type": "stream",
     "text": [
      "Accuracy of prediction is  100.0 %\n"
     ]
    }
   ],
   "source": [
    "# Prediction using NaiveBayes\n",
    "Y_pred = NB.predict(X_test)\n",
    "\n",
    "# Calculating accuracy\n",
    "Accuracy = sum(Y_pred == Y_test)/len(Y_test)\n",
    "print('Accuracy of prediction is ', round(Accuracy*100,2),'%' )"
   ]
  }
 ],
 "metadata": {
  "kernelspec": {
   "display_name": "Python 3",
   "language": "python",
   "name": "python3"
  },
  "language_info": {
   "codemirror_mode": {
    "name": "ipython",
    "version": 3
   },
   "file_extension": ".py",
   "mimetype": "text/x-python",
   "name": "python",
   "nbconvert_exporter": "python",
   "pygments_lexer": "ipython3",
   "version": "3.7.4"
  }
 },
 "nbformat": 4,
 "nbformat_minor": 2
}
